{
 "cells": [
  {
   "cell_type": "code",
   "execution_count": 1,
   "id": "2788b538",
   "metadata": {},
   "outputs": [],
   "source": [
    "import pandas as pd"
   ]
  },
  {
   "cell_type": "code",
   "execution_count": 2,
   "id": "f9c83c5a",
   "metadata": {},
   "outputs": [
    {
     "data": {
      "text/html": [
       "<div>\n",
       "<style scoped>\n",
       "    .dataframe tbody tr th:only-of-type {\n",
       "        vertical-align: middle;\n",
       "    }\n",
       "\n",
       "    .dataframe tbody tr th {\n",
       "        vertical-align: top;\n",
       "    }\n",
       "\n",
       "    .dataframe thead th {\n",
       "        text-align: right;\n",
       "    }\n",
       "</style>\n",
       "<table border=\"1\" class=\"dataframe\">\n",
       "  <thead>\n",
       "    <tr style=\"text-align: right;\">\n",
       "      <th></th>\n",
       "      <th>InvoiceNo</th>\n",
       "      <th>StockCode</th>\n",
       "      <th>Description</th>\n",
       "      <th>Quantity</th>\n",
       "      <th>InvoiceDate</th>\n",
       "      <th>UnitPrice</th>\n",
       "      <th>CustomerID</th>\n",
       "      <th>Country</th>\n",
       "    </tr>\n",
       "  </thead>\n",
       "  <tbody>\n",
       "    <tr>\n",
       "      <th>0</th>\n",
       "      <td>536365</td>\n",
       "      <td>85123A</td>\n",
       "      <td>WHITE HANGING HEART T-LIGHT HOLDER</td>\n",
       "      <td>6</td>\n",
       "      <td>12/1/2010 8:26</td>\n",
       "      <td>2.55</td>\n",
       "      <td>17850.0</td>\n",
       "      <td>United Kingdom</td>\n",
       "    </tr>\n",
       "    <tr>\n",
       "      <th>1</th>\n",
       "      <td>536365</td>\n",
       "      <td>71053</td>\n",
       "      <td>WHITE METAL LANTERN</td>\n",
       "      <td>6</td>\n",
       "      <td>12/1/2010 8:26</td>\n",
       "      <td>3.39</td>\n",
       "      <td>17850.0</td>\n",
       "      <td>United Kingdom</td>\n",
       "    </tr>\n",
       "    <tr>\n",
       "      <th>2</th>\n",
       "      <td>536365</td>\n",
       "      <td>84406B</td>\n",
       "      <td>CREAM CUPID HEARTS COAT HANGER</td>\n",
       "      <td>8</td>\n",
       "      <td>12/1/2010 8:26</td>\n",
       "      <td>2.75</td>\n",
       "      <td>17850.0</td>\n",
       "      <td>United Kingdom</td>\n",
       "    </tr>\n",
       "    <tr>\n",
       "      <th>3</th>\n",
       "      <td>536365</td>\n",
       "      <td>84029G</td>\n",
       "      <td>KNITTED UNION FLAG HOT WATER BOTTLE</td>\n",
       "      <td>6</td>\n",
       "      <td>12/1/2010 8:26</td>\n",
       "      <td>3.39</td>\n",
       "      <td>17850.0</td>\n",
       "      <td>United Kingdom</td>\n",
       "    </tr>\n",
       "    <tr>\n",
       "      <th>4</th>\n",
       "      <td>536365</td>\n",
       "      <td>84029E</td>\n",
       "      <td>RED WOOLLY HOTTIE WHITE HEART.</td>\n",
       "      <td>6</td>\n",
       "      <td>12/1/2010 8:26</td>\n",
       "      <td>3.39</td>\n",
       "      <td>17850.0</td>\n",
       "      <td>United Kingdom</td>\n",
       "    </tr>\n",
       "    <tr>\n",
       "      <th>...</th>\n",
       "      <td>...</td>\n",
       "      <td>...</td>\n",
       "      <td>...</td>\n",
       "      <td>...</td>\n",
       "      <td>...</td>\n",
       "      <td>...</td>\n",
       "      <td>...</td>\n",
       "      <td>...</td>\n",
       "    </tr>\n",
       "    <tr>\n",
       "      <th>95</th>\n",
       "      <td>536378</td>\n",
       "      <td>22352</td>\n",
       "      <td>LUNCH BOX WITH CUTLERY RETROSPOT</td>\n",
       "      <td>6</td>\n",
       "      <td>12/1/2010 9:37</td>\n",
       "      <td>2.55</td>\n",
       "      <td>14688.0</td>\n",
       "      <td>United Kingdom</td>\n",
       "    </tr>\n",
       "    <tr>\n",
       "      <th>96</th>\n",
       "      <td>536378</td>\n",
       "      <td>21212</td>\n",
       "      <td>PACK OF 72 RETROSPOT CAKE CASES</td>\n",
       "      <td>120</td>\n",
       "      <td>12/1/2010 9:37</td>\n",
       "      <td>0.42</td>\n",
       "      <td>14688.0</td>\n",
       "      <td>United Kingdom</td>\n",
       "    </tr>\n",
       "    <tr>\n",
       "      <th>97</th>\n",
       "      <td>536378</td>\n",
       "      <td>21975</td>\n",
       "      <td>PACK OF 60 DINOSAUR CAKE CASES</td>\n",
       "      <td>24</td>\n",
       "      <td>12/1/2010 9:37</td>\n",
       "      <td>0.55</td>\n",
       "      <td>14688.0</td>\n",
       "      <td>United Kingdom</td>\n",
       "    </tr>\n",
       "    <tr>\n",
       "      <th>98</th>\n",
       "      <td>536378</td>\n",
       "      <td>21977</td>\n",
       "      <td>PACK OF 60 PINK PAISLEY CAKE CASES</td>\n",
       "      <td>24</td>\n",
       "      <td>12/1/2010 9:37</td>\n",
       "      <td>0.55</td>\n",
       "      <td>14688.0</td>\n",
       "      <td>United Kingdom</td>\n",
       "    </tr>\n",
       "    <tr>\n",
       "      <th>99</th>\n",
       "      <td>536378</td>\n",
       "      <td>84991</td>\n",
       "      <td>60 TEATIME FAIRY CAKE CASES</td>\n",
       "      <td>24</td>\n",
       "      <td>12/1/2010 9:37</td>\n",
       "      <td>0.55</td>\n",
       "      <td>14688.0</td>\n",
       "      <td>United Kingdom</td>\n",
       "    </tr>\n",
       "  </tbody>\n",
       "</table>\n",
       "<p>100 rows × 8 columns</p>\n",
       "</div>"
      ],
      "text/plain": [
       "   InvoiceNo StockCode                          Description  Quantity  \\\n",
       "0     536365    85123A   WHITE HANGING HEART T-LIGHT HOLDER         6   \n",
       "1     536365     71053                  WHITE METAL LANTERN         6   \n",
       "2     536365    84406B       CREAM CUPID HEARTS COAT HANGER         8   \n",
       "3     536365    84029G  KNITTED UNION FLAG HOT WATER BOTTLE         6   \n",
       "4     536365    84029E       RED WOOLLY HOTTIE WHITE HEART.         6   \n",
       "..       ...       ...                                  ...       ...   \n",
       "95    536378     22352    LUNCH BOX WITH CUTLERY RETROSPOT          6   \n",
       "96    536378     21212      PACK OF 72 RETROSPOT CAKE CASES       120   \n",
       "97    536378     21975       PACK OF 60 DINOSAUR CAKE CASES        24   \n",
       "98    536378     21977   PACK OF 60 PINK PAISLEY CAKE CASES        24   \n",
       "99    536378     84991          60 TEATIME FAIRY CAKE CASES        24   \n",
       "\n",
       "       InvoiceDate  UnitPrice  CustomerID         Country  \n",
       "0   12/1/2010 8:26       2.55     17850.0  United Kingdom  \n",
       "1   12/1/2010 8:26       3.39     17850.0  United Kingdom  \n",
       "2   12/1/2010 8:26       2.75     17850.0  United Kingdom  \n",
       "3   12/1/2010 8:26       3.39     17850.0  United Kingdom  \n",
       "4   12/1/2010 8:26       3.39     17850.0  United Kingdom  \n",
       "..             ...        ...         ...             ...  \n",
       "95  12/1/2010 9:37       2.55     14688.0  United Kingdom  \n",
       "96  12/1/2010 9:37       0.42     14688.0  United Kingdom  \n",
       "97  12/1/2010 9:37       0.55     14688.0  United Kingdom  \n",
       "98  12/1/2010 9:37       0.55     14688.0  United Kingdom  \n",
       "99  12/1/2010 9:37       0.55     14688.0  United Kingdom  \n",
       "\n",
       "[100 rows x 8 columns]"
      ]
     },
     "execution_count": 2,
     "metadata": {},
     "output_type": "execute_result"
    }
   ],
   "source": [
    "df = pd.read_csv('OnlineRetail.csv')\n",
    "df.head(100)"
   ]
  },
  {
   "cell_type": "code",
   "execution_count": 3,
   "id": "41298663",
   "metadata": {},
   "outputs": [
    {
     "name": "stdout",
     "output_type": "stream",
     "text": [
      "<class 'pandas.core.frame.DataFrame'>\n",
      "RangeIndex: 541909 entries, 0 to 541908\n",
      "Data columns (total 8 columns):\n",
      " #   Column       Non-Null Count   Dtype  \n",
      "---  ------       --------------   -----  \n",
      " 0   InvoiceNo    541909 non-null  object \n",
      " 1   StockCode    541909 non-null  object \n",
      " 2   Description  540455 non-null  object \n",
      " 3   Quantity     541909 non-null  int64  \n",
      " 4   InvoiceDate  541909 non-null  object \n",
      " 5   UnitPrice    541909 non-null  float64\n",
      " 6   CustomerID   406829 non-null  float64\n",
      " 7   Country      541909 non-null  object \n",
      "dtypes: float64(2), int64(1), object(5)\n",
      "memory usage: 33.1+ MB\n"
     ]
    }
   ],
   "source": [
    "df.info()"
   ]
  },
  {
   "cell_type": "markdown",
   "id": "fac72b62",
   "metadata": {},
   "source": [
    "### Which countries our products come from?"
   ]
  },
  {
   "cell_type": "code",
   "execution_count": 4,
   "id": "a3de585a",
   "metadata": {},
   "outputs": [
    {
     "name": "stdout",
     "output_type": "stream",
     "text": [
      "Company sales products from 38 countries\n"
     ]
    }
   ],
   "source": [
    "countries = df['Country'].unique()\n",
    "print(f'Company sales products from {len(countries)} countries')"
   ]
  },
  {
   "cell_type": "markdown",
   "id": "f3cf0b6b",
   "metadata": {},
   "source": [
    "### Total number of order and income"
   ]
  },
  {
   "cell_type": "code",
   "execution_count": 5,
   "id": "1e6b63c6",
   "metadata": {},
   "outputs": [
    {
     "name": "stdout",
     "output_type": "stream",
     "text": [
      "Total orders are 25900\n",
      "Total income is 9747747.93 USD\n"
     ]
    }
   ],
   "source": [
    "orders = df['InvoiceNo'].unique()\n",
    "# print(orders)\n",
    "# print(len(orders))\n",
    "# print(df.shape)\n",
    "\n",
    "total = 0\n",
    "for i in range(df.shape[0]):\n",
    "    total += df['Quantity'][i] * df['UnitPrice'][i]\n",
    "\n",
    "print(f'Total orders are {len(orders)}')\n",
    "print(f'Total income is {round(total, 2)} USD')"
   ]
  },
  {
   "cell_type": "markdown",
   "id": "54cdae7a",
   "metadata": {},
   "source": [
    "### Top 10 best selling products"
   ]
  },
  {
   "cell_type": "code",
   "execution_count": 6,
   "id": "298678d4",
   "metadata": {},
   "outputs": [
    {
     "data": {
      "text/plain": [
       "Description\n",
       "WORLD WAR 2 GLIDERS ASSTD DESIGNS     53847\n",
       "JUMBO BAG RED RETROSPOT               47363\n",
       "ASSORTED COLOUR BIRD ORNAMENT         36381\n",
       "POPCORN HOLDER                        36334\n",
       "PACK OF 72 RETROSPOT CAKE CASES       36039\n",
       "WHITE HANGING HEART T-LIGHT HOLDER    35317\n",
       "RABBIT NIGHT LIGHT                    30680\n",
       "MINI PAINT SET VINTAGE                26437\n",
       "PACK OF 12 LONDON TISSUES             26315\n",
       "PACK OF 60 PINK PAISLEY CAKE CASES    24753\n",
       "Name: Quantity, dtype: int64"
      ]
     },
     "execution_count": 6,
     "metadata": {},
     "output_type": "execute_result"
    }
   ],
   "source": [
    "best_selling = df.groupby('Description')['Quantity'].sum()\n",
    "best_selling.sort_values(ascending = False).head(10)"
   ]
  },
  {
   "cell_type": "markdown",
   "id": "add65ab3",
   "metadata": {},
   "source": [
    "### Top 10 largest income value product"
   ]
  },
  {
   "cell_type": "code",
   "execution_count": 7,
   "id": "c878fc81",
   "metadata": {},
   "outputs": [
    {
     "data": {
      "text/plain": [
       "Description\n",
       "DOTCOM POSTAGE                        206245.48\n",
       "REGENCY CAKESTAND 3 TIER              164762.19\n",
       "WHITE HANGING HEART T-LIGHT HOLDER     99668.47\n",
       "PARTY BUNTING                          98302.98\n",
       "JUMBO BAG RED RETROSPOT                92356.03\n",
       "RABBIT NIGHT LIGHT                     66756.59\n",
       "POSTAGE                                66230.64\n",
       "PAPER CHAIN KIT 50'S CHRISTMAS         63791.94\n",
       "ASSORTED COLOUR BIRD ORNAMENT          58959.73\n",
       "CHILLI LIGHTS                          53768.06\n",
       "Name: total, dtype: float64"
      ]
     },
     "execution_count": 7,
     "metadata": {},
     "output_type": "execute_result"
    }
   ],
   "source": [
    "df['total'] = df['Quantity'] * df['UnitPrice']\n",
    "largest_value = df.groupby('Description')['total'].sum().sort_values(ascending = False)\n",
    "largest_value.head(10)"
   ]
  }
 ],
 "metadata": {
  "kernelspec": {
   "display_name": "Python 3 (ipykernel)",
   "language": "python",
   "name": "python3"
  },
  "language_info": {
   "codemirror_mode": {
    "name": "ipython",
    "version": 3
   },
   "file_extension": ".py",
   "mimetype": "text/x-python",
   "name": "python",
   "nbconvert_exporter": "python",
   "pygments_lexer": "ipython3",
   "version": "3.9.8"
  }
 },
 "nbformat": 4,
 "nbformat_minor": 5
}
