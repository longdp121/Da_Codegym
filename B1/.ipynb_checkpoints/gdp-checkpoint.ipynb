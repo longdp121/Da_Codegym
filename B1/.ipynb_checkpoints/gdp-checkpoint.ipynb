{
 "cells": [
  {
   "cell_type": "markdown",
   "id": "c908f76a",
   "metadata": {},
   "source": [
    "- Bộ dữ liệu chứa bao nhiêu dòng, bao nhiêu cột\n",
    "- Thang đo tương ứng của các thuộc tính được lưu trữ\n",
    "- GDP của các quốc gia có đồng đều không\n",
    "- Mỗi châu lục có bao nhiêu quốc gia nằm trong bảng dữ liệu\n",
    "- Tổng GPD của các châu lục\n",
    "- Top 10 quốc gia có GDP cao nhất"
   ]
  },
  {
   "cell_type": "code",
   "execution_count": 1,
   "id": "36b2d92f",
   "metadata": {},
   "outputs": [],
   "source": [
    "import pandas as pd\n",
    "import matplotlib.pyplot as plt"
   ]
  },
  {
   "cell_type": "code",
   "execution_count": 2,
   "id": "92bc15d8",
   "metadata": {},
   "outputs": [
    {
     "data": {
      "text/html": [
       "<div>\n",
       "<style scoped>\n",
       "    .dataframe tbody tr th:only-of-type {\n",
       "        vertical-align: middle;\n",
       "    }\n",
       "\n",
       "    .dataframe tbody tr th {\n",
       "        vertical-align: top;\n",
       "    }\n",
       "\n",
       "    .dataframe thead th {\n",
       "        text-align: right;\n",
       "    }\n",
       "</style>\n",
       "<table border=\"1\" class=\"dataframe\">\n",
       "  <thead>\n",
       "    <tr style=\"text-align: right;\">\n",
       "      <th></th>\n",
       "      <th>Country</th>\n",
       "      <th>Continent</th>\n",
       "      <th>GDP (millions of US$)</th>\n",
       "    </tr>\n",
       "  </thead>\n",
       "  <tbody>\n",
       "    <tr>\n",
       "      <th>0</th>\n",
       "      <td>�Afghanistan</td>\n",
       "      <td>Asia</td>\n",
       "      <td>18181</td>\n",
       "    </tr>\n",
       "    <tr>\n",
       "      <th>1</th>\n",
       "      <td>�Albania</td>\n",
       "      <td>Europe</td>\n",
       "      <td>12847</td>\n",
       "    </tr>\n",
       "    <tr>\n",
       "      <th>2</th>\n",
       "      <td>�Algeria</td>\n",
       "      <td>Africa</td>\n",
       "      <td>190709</td>\n",
       "    </tr>\n",
       "    <tr>\n",
       "      <th>3</th>\n",
       "      <td>�Angola</td>\n",
       "      <td>Africa</td>\n",
       "      <td>100948</td>\n",
       "    </tr>\n",
       "    <tr>\n",
       "      <th>4</th>\n",
       "      <td>�Argentina</td>\n",
       "      <td>South America</td>\n",
       "      <td>447644</td>\n",
       "    </tr>\n",
       "    <tr>\n",
       "      <th>5</th>\n",
       "      <td>�Australia</td>\n",
       "      <td>Oceania</td>\n",
       "      <td>1488221</td>\n",
       "    </tr>\n",
       "    <tr>\n",
       "      <th>6</th>\n",
       "      <td>�Austria</td>\n",
       "      <td>Europe</td>\n",
       "      <td>419243</td>\n",
       "    </tr>\n",
       "    <tr>\n",
       "      <th>7</th>\n",
       "      <td>�Azerbaijan</td>\n",
       "      <td>Europe</td>\n",
       "      <td>62321</td>\n",
       "    </tr>\n",
       "    <tr>\n",
       "      <th>8</th>\n",
       "      <td>�Bahrain</td>\n",
       "      <td>Asia</td>\n",
       "      <td>26108</td>\n",
       "    </tr>\n",
       "    <tr>\n",
       "      <th>9</th>\n",
       "      <td>�Bangladesh</td>\n",
       "      <td>Asia</td>\n",
       "      <td>113032</td>\n",
       "    </tr>\n",
       "  </tbody>\n",
       "</table>\n",
       "</div>"
      ],
      "text/plain": [
       "        Country      Continent  GDP (millions of US$)\n",
       "0  �Afghanistan           Asia                  18181\n",
       "1      �Albania         Europe                  12847\n",
       "2      �Algeria         Africa                 190709\n",
       "3       �Angola         Africa                 100948\n",
       "4    �Argentina  South America                 447644\n",
       "5    �Australia        Oceania                1488221\n",
       "6      �Austria         Europe                 419243\n",
       "7   �Azerbaijan         Europe                  62321\n",
       "8      �Bahrain           Asia                  26108\n",
       "9   �Bangladesh           Asia                 113032"
      ]
     },
     "execution_count": 2,
     "metadata": {},
     "output_type": "execute_result"
    }
   ],
   "source": [
    "df = pd.read_csv('GDPlist.csv')\n",
    "df.head(10)"
   ]
  },
  {
   "cell_type": "code",
   "execution_count": 3,
   "id": "9f693743",
   "metadata": {},
   "outputs": [
    {
     "name": "stdout",
     "output_type": "stream",
     "text": [
      "<class 'pandas.core.frame.DataFrame'>\n",
      "RangeIndex: 125 entries, 0 to 124\n",
      "Data columns (total 3 columns):\n",
      " #   Column                 Non-Null Count  Dtype \n",
      "---  ------                 --------------  ----- \n",
      " 0   Country                125 non-null    object\n",
      " 1   Continent              125 non-null    object\n",
      " 2   GDP (millions of US$)  125 non-null    int64 \n",
      "dtypes: int64(1), object(2)\n",
      "memory usage: 3.1+ KB\n"
     ]
    },
    {
     "data": {
      "text/plain": [
       "'\\n- 124 dòng và 3 cột\\n- Cột Country: Thang đo định danh norminal\\n- Cột Continent: Thanh đo định danh norminal\\n- Cột GDP: Thang đo khoảng interval\\n\\n'"
      ]
     },
     "execution_count": 3,
     "metadata": {},
     "output_type": "execute_result"
    }
   ],
   "source": [
    "df.info()\n",
    "'''\n",
    "- 124 dòng và 3 cột\n",
    "- Cột Country: Thang đo định danh norminal\n",
    "- Cột Continent: Thanh đo định danh norminal\n",
    "- Cột GDP: Thang đo khoảng interval\n",
    "\n",
    "'''"
   ]
  },
  {
   "cell_type": "code",
   "execution_count": 12,
   "id": "efb56248",
   "metadata": {},
   "outputs": [
    {
     "name": "stdout",
     "output_type": "stream",
     "text": [
      "555427.784\n",
      "96089.0\n"
     ]
    },
    {
     "data": {
      "image/png": "[encoded data removed]",
      "text/plain": [
       "<Figure size 432x288 with 1 Axes>"
      ]
     },
     "metadata": {
      "needs_background": "light"
     },
     "output_type": "display_data"
    }
   ],
   "source": [
    "means_gdp = df['GDP (millions of US$)'].mean()\n",
    "median_gdp = df['GDP (millions of US$)'].median()\n",
    "print(means_gdp)\n",
    "print(median_gdp)\n",
    "\n",
    "plt.hist(df['GDP (millions of US$)'], bins=100)\n",
    "plt.show()"
   ]
  },
  {
   "cell_type": "code",
   "execution_count": 21,
   "id": "8a1ed77a",
   "metadata": {},
   "outputs": [
    {
     "name": "stdout",
     "output_type": "stream",
     "text": [
      "Continent\n",
      "Africa           29\n",
      "Asia             36\n",
      "Europe           37\n",
      "North America    11\n",
      "Oceania           3\n",
      "South America     9\n",
      "Name: Country, dtype: int64\n"
     ]
    }
   ],
   "source": [
    "continent_size = df.groupby('Continent')['Country'].size()\n",
    "print(continent_size)"
   ]
  },
  {
   "cell_type": "code",
   "execution_count": 24,
   "id": "23195985",
   "metadata": {},
   "outputs": [
    {
     "name": "stdout",
     "output_type": "stream",
     "text": [
      "Continent\n",
      "Africa            1820811\n",
      "Asia             24425891\n",
      "Europe           19139380\n",
      "North America    18238447\n",
      "Oceania           1662727\n",
      "South America     4141217\n",
      "Name: GDP (millions of US$), dtype: int64\n"
     ]
    }
   ],
   "source": [
    "contiment_gdp = df.groupby('Continent')['GDP (millions of US$)'].sum()\n",
    "print(contiment_gdp)"
   ]
  },
  {
   "cell_type": "code",
   "execution_count": 27,
   "id": "139d2d53",
   "metadata": {},
   "outputs": [
    {
     "data": {
      "text/html": [
       "<div>\n",
       "<style scoped>\n",
       "    .dataframe tbody tr th:only-of-type {\n",
       "        vertical-align: middle;\n",
       "    }\n",
       "\n",
       "    .dataframe tbody tr th {\n",
       "        vertical-align: top;\n",
       "    }\n",
       "\n",
       "    .dataframe thead th {\n",
       "        text-align: right;\n",
       "    }\n",
       "</style>\n",
       "<table border=\"1\" class=\"dataframe\">\n",
       "  <thead>\n",
       "    <tr style=\"text-align: right;\">\n",
       "      <th></th>\n",
       "      <th>Country</th>\n",
       "      <th>Continent</th>\n",
       "      <th>GDP (millions of US$)</th>\n",
       "    </tr>\n",
       "  </thead>\n",
       "  <tbody>\n",
       "    <tr>\n",
       "      <th>118</th>\n",
       "      <td>�United States</td>\n",
       "      <td>North America</td>\n",
       "      <td>15094025</td>\n",
       "    </tr>\n",
       "    <tr>\n",
       "      <th>23</th>\n",
       "      <td>�China</td>\n",
       "      <td>Asia</td>\n",
       "      <td>7298147</td>\n",
       "    </tr>\n",
       "    <tr>\n",
       "      <th>60</th>\n",
       "      <td>�Japan</td>\n",
       "      <td>Asia</td>\n",
       "      <td>5869471</td>\n",
       "    </tr>\n",
       "    <tr>\n",
       "      <th>44</th>\n",
       "      <td>�Germany</td>\n",
       "      <td>Europe</td>\n",
       "      <td>3577031</td>\n",
       "    </tr>\n",
       "    <tr>\n",
       "      <th>41</th>\n",
       "      <td>�France</td>\n",
       "      <td>Europe</td>\n",
       "      <td>2776324</td>\n",
       "    </tr>\n",
       "    <tr>\n",
       "      <th>15</th>\n",
       "      <td>�Brazil</td>\n",
       "      <td>South America</td>\n",
       "      <td>2492908</td>\n",
       "    </tr>\n",
       "    <tr>\n",
       "      <th>117</th>\n",
       "      <td>�United Kingdom</td>\n",
       "      <td>Europe</td>\n",
       "      <td>2417570</td>\n",
       "    </tr>\n",
       "    <tr>\n",
       "      <th>58</th>\n",
       "      <td>�Italy</td>\n",
       "      <td>Europe</td>\n",
       "      <td>2198730</td>\n",
       "    </tr>\n",
       "    <tr>\n",
       "      <th>93</th>\n",
       "      <td>�Russia</td>\n",
       "      <td>Asia</td>\n",
       "      <td>1850401</td>\n",
       "    </tr>\n",
       "    <tr>\n",
       "      <th>21</th>\n",
       "      <td>�Canada</td>\n",
       "      <td>North America</td>\n",
       "      <td>1736869</td>\n",
       "    </tr>\n",
       "  </tbody>\n",
       "</table>\n",
       "</div>"
      ],
      "text/plain": [
       "             Country      Continent  GDP (millions of US$)\n",
       "118   �United States  North America               15094025\n",
       "23            �China           Asia                7298147\n",
       "60            �Japan           Asia                5869471\n",
       "44          �Germany         Europe                3577031\n",
       "41           �France         Europe                2776324\n",
       "15           �Brazil  South America                2492908\n",
       "117  �United Kingdom         Europe                2417570\n",
       "58            �Italy         Europe                2198730\n",
       "93           �Russia           Asia                1850401\n",
       "21           �Canada  North America                1736869"
      ]
     },
     "execution_count": 27,
     "metadata": {},
     "output_type": "execute_result"
    }
   ],
   "source": [
    "top_countries = df.sort_values('GDP (millions of US$)', ascending=False)\n",
    "top_countries.head(10)"
   ]
  }
 ],
 "metadata": {
  "kernelspec": {
   "display_name": "Python 3 (ipykernel)",
   "language": "python",
   "name": "python3"
  },
  "language_info": {
   "codemirror_mode": {
    "name": "ipython",
    "version": 3
   },
   "file_extension": ".py",
   "mimetype": "text/x-python",
   "name": "python",
   "nbconvert_exporter": "python",
   "pygments_lexer": "ipython3",
   "version": "3.9.8"
  }
 },
 "nbformat": 4,
 "nbformat_minor": 5
}
