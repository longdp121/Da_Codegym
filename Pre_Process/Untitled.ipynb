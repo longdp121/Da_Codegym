{
 "cells": [
  {
   "cell_type": "code",
   "execution_count": 6,
   "id": "fdae9baf",
   "metadata": {},
   "outputs": [],
   "source": [
    "import pandas as pd\n",
    "import numpy as np"
   ]
  },
  {
   "cell_type": "code",
   "execution_count": 7,
   "id": "a699f364",
   "metadata": {},
   "outputs": [],
   "source": [
    "dict_1 = {0: 'Ke toan', 1: 'Giam doc', 3:'Lao cong', 4:'Bao ve'}"
   ]
  },
  {
   "cell_type": "code",
   "execution_count": 8,
   "id": "319fa40b",
   "metadata": {},
   "outputs": [
    {
     "data": {
      "text/plain": [
       "0     Ke toan\n",
       "1    Giam doc\n",
       "3    Lao cong\n",
       "4      Bao ve\n",
       "dtype: object"
      ]
     },
     "execution_count": 8,
     "metadata": {},
     "output_type": "execute_result"
    }
   ],
   "source": [
    "sr = pd.Series(dict_1)\n",
    "sr.head()"
   ]
  },
  {
   "cell_type": "code",
   "execution_count": 9,
   "id": "c208527b",
   "metadata": {},
   "outputs": [
    {
     "data": {
      "text/plain": [
       "(4,)"
      ]
     },
     "execution_count": 9,
     "metadata": {},
     "output_type": "execute_result"
    }
   ],
   "source": [
    "sr.shape"
   ]
  },
  {
   "cell_type": "code",
   "execution_count": 12,
   "id": "169161e9",
   "metadata": {},
   "outputs": [
    {
     "name": "stdout",
     "output_type": "stream",
     "text": [
      "(21,)\n"
     ]
    },
    {
     "data": {
      "text/plain": [
       "0     123\n",
       "1     314\n",
       "2      31\n",
       "3    4315\n",
       "4      43\n",
       "dtype: int32"
      ]
     },
     "execution_count": 12,
     "metadata": {},
     "output_type": "execute_result"
    }
   ],
   "source": [
    "arr = np.array([123, 314, 31, 4315, 43, 4333, 4134, 135145, 434, 434, 43, 4314, 4314, 4134, 4134, 4134, 4134, 4134, 434, 434, 434])\n",
    "arr_seri = pd.Series(arr)\n",
    "print(arr_seri.shape)\n",
    "arr_seri.head()"
   ]
  },
  {
   "cell_type": "code",
   "execution_count": null,
   "id": "f1277d56",
   "metadata": {},
   "outputs": [],
   "source": []
  },
  {
   "cell_type": "code",
   "execution_count": null,
   "id": "957c4f5c",
   "metadata": {},
   "outputs": [],
   "source": []
  }
 ],
 "metadata": {
  "kernelspec": {
   "display_name": "Python 3 (ipykernel)",
   "language": "python",
   "name": "python3"
  },
  "language_info": {
   "codemirror_mode": {
    "name": "ipython",
    "version": 3
   },
   "file_extension": ".py",
   "mimetype": "text/x-python",
   "name": "python",
   "nbconvert_exporter": "python",
   "pygments_lexer": "ipython3",
   "version": "3.9.8"
  }
 },
 "nbformat": 4,
 "nbformat_minor": 5
}
