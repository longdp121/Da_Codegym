{
 "cells": [
  {
   "cell_type": "code",
   "execution_count": 1,
   "id": "220666fc",
   "metadata": {},
   "outputs": [],
   "source": [
    "import pandas as pd\n",
    "import numpy as np\n",
    "import matplotlib.pyplot as plt\n",
    "import seaborn as sns\n",
    "from sklearn.preprocessing import StandardScaler"
   ]
  },
  {
   "cell_type": "code",
   "execution_count": 2,
   "id": "08b4174b",
   "metadata": {},
   "outputs": [],
   "source": [
    "#Creat smaple data\n",
    "\n",
    "data = {\n",
    "    'beta': np.random.beta(5, 1, 1000) * 60,\n",
    "    'exponential': np.random.exponential(10, 1000),\n",
    "    'normal_p': np.random.normal(10, 2, 1000),\n",
    "    'normal_l': np.random.normal(10, 10, 1000)\n",
    "}\n",
    "df = pd.DataFrame(data)"
   ]
  },
  {
   "cell_type": "code",
   "execution_count": 3,
   "id": "2a2a4aaa",
   "metadata": {},
   "outputs": [],
   "source": [
    "first_half = np.random.normal(20, 3, 500)\n",
    "second_half = np.random.normal(-20, 3, 500)\n",
    "bimodal = np.concatenate([first_half, second_half])\n",
    "# first_half\n",
    "# second_half\n",
    "# bimodal"
   ]
  },
  {
   "cell_type": "code",
   "execution_count": 4,
   "id": "80c6ae4a",
   "metadata": {},
   "outputs": [],
   "source": [
    "df['bimodal'] = bimodal"
   ]
  },
  {
   "cell_type": "code",
   "execution_count": 7,
   "id": "786c6017",
   "metadata": {},
   "outputs": [
    {
     "data": {
      "text/html": [
       "<div>\n",
       "<style scoped>\n",
       "    .dataframe tbody tr th:only-of-type {\n",
       "        vertical-align: middle;\n",
       "    }\n",
       "\n",
       "    .dataframe tbody tr th {\n",
       "        vertical-align: top;\n",
       "    }\n",
       "\n",
       "    .dataframe thead th {\n",
       "        text-align: right;\n",
       "    }\n",
       "</style>\n",
       "<table border=\"1\" class=\"dataframe\">\n",
       "  <thead>\n",
       "    <tr style=\"text-align: right;\">\n",
       "      <th></th>\n",
       "      <th>beta</th>\n",
       "      <th>exponential</th>\n",
       "      <th>normal_p</th>\n",
       "      <th>normal_l</th>\n",
       "      <th>bimodal</th>\n",
       "    </tr>\n",
       "  </thead>\n",
       "  <tbody>\n",
       "    <tr>\n",
       "      <th>0</th>\n",
       "      <td>52.018935</td>\n",
       "      <td>0.957364</td>\n",
       "      <td>11.635142</td>\n",
       "      <td>32.897496</td>\n",
       "      <td>16.429385</td>\n",
       "    </tr>\n",
       "    <tr>\n",
       "      <th>1</th>\n",
       "      <td>56.930009</td>\n",
       "      <td>13.015245</td>\n",
       "      <td>6.699572</td>\n",
       "      <td>1.771047</td>\n",
       "      <td>14.930418</td>\n",
       "    </tr>\n",
       "    <tr>\n",
       "      <th>2</th>\n",
       "      <td>47.811140</td>\n",
       "      <td>19.614677</td>\n",
       "      <td>9.912446</td>\n",
       "      <td>2.311583</td>\n",
       "      <td>19.605573</td>\n",
       "    </tr>\n",
       "    <tr>\n",
       "      <th>3</th>\n",
       "      <td>35.052393</td>\n",
       "      <td>5.169527</td>\n",
       "      <td>11.016239</td>\n",
       "      <td>3.376385</td>\n",
       "      <td>17.048765</td>\n",
       "    </tr>\n",
       "    <tr>\n",
       "      <th>4</th>\n",
       "      <td>50.569352</td>\n",
       "      <td>9.374055</td>\n",
       "      <td>9.652151</td>\n",
       "      <td>-1.199521</td>\n",
       "      <td>21.330441</td>\n",
       "    </tr>\n",
       "    <tr>\n",
       "      <th>...</th>\n",
       "      <td>...</td>\n",
       "      <td>...</td>\n",
       "      <td>...</td>\n",
       "      <td>...</td>\n",
       "      <td>...</td>\n",
       "    </tr>\n",
       "    <tr>\n",
       "      <th>995</th>\n",
       "      <td>53.214009</td>\n",
       "      <td>2.218547</td>\n",
       "      <td>9.097282</td>\n",
       "      <td>16.560671</td>\n",
       "      <td>-20.402895</td>\n",
       "    </tr>\n",
       "    <tr>\n",
       "      <th>996</th>\n",
       "      <td>54.528996</td>\n",
       "      <td>1.661387</td>\n",
       "      <td>9.849813</td>\n",
       "      <td>3.297261</td>\n",
       "      <td>-21.468577</td>\n",
       "    </tr>\n",
       "    <tr>\n",
       "      <th>997</th>\n",
       "      <td>56.916779</td>\n",
       "      <td>5.412260</td>\n",
       "      <td>10.648074</td>\n",
       "      <td>23.343297</td>\n",
       "      <td>-17.510676</td>\n",
       "    </tr>\n",
       "    <tr>\n",
       "      <th>998</th>\n",
       "      <td>57.310975</td>\n",
       "      <td>52.066046</td>\n",
       "      <td>12.178286</td>\n",
       "      <td>-8.586678</td>\n",
       "      <td>-23.929339</td>\n",
       "    </tr>\n",
       "    <tr>\n",
       "      <th>999</th>\n",
       "      <td>54.569352</td>\n",
       "      <td>24.761850</td>\n",
       "      <td>8.072481</td>\n",
       "      <td>14.195366</td>\n",
       "      <td>-22.300742</td>\n",
       "    </tr>\n",
       "  </tbody>\n",
       "</table>\n",
       "<p>1000 rows × 5 columns</p>\n",
       "</div>"
      ],
      "text/plain": [
       "          beta  exponential   normal_p   normal_l    bimodal\n",
       "0    52.018935     0.957364  11.635142  32.897496  16.429385\n",
       "1    56.930009    13.015245   6.699572   1.771047  14.930418\n",
       "2    47.811140    19.614677   9.912446   2.311583  19.605573\n",
       "3    35.052393     5.169527  11.016239   3.376385  17.048765\n",
       "4    50.569352     9.374055   9.652151  -1.199521  21.330441\n",
       "..         ...          ...        ...        ...        ...\n",
       "995  53.214009     2.218547   9.097282  16.560671 -20.402895\n",
       "996  54.528996     1.661387   9.849813   3.297261 -21.468577\n",
       "997  56.916779     5.412260  10.648074  23.343297 -17.510676\n",
       "998  57.310975    52.066046  12.178286  -8.586678 -23.929339\n",
       "999  54.569352    24.761850   8.072481  14.195366 -22.300742\n",
       "\n",
       "[1000 rows x 5 columns]"
      ]
     },
     "execution_count": 7,
     "metadata": {},
     "output_type": "execute_result"
    }
   ],
   "source": [
    "df"
   ]
  },
  {
   "cell_type": "code",
   "execution_count": 6,
   "id": "5557896f",
   "metadata": {},
   "outputs": [
    {
     "data": {
      "image/png": "[encoded data removed]",
      "text/plain": [
       "<Figure size 432x288 with 1 Axes>"
      ]
     },
     "metadata": {
      "needs_background": "light"
     },
     "output_type": "display_data"
    }
   ],
   "source": [
    "#Vizualization data\n",
    "sns.kdeplot(data=df);"
   ]
  },
  {
   "cell_type": "code",
   "execution_count": 8,
   "id": "cb6951e7",
   "metadata": {},
   "outputs": [
    {
     "data": {
      "text/html": [
       "<div>\n",
       "<style scoped>\n",
       "    .dataframe tbody tr th:only-of-type {\n",
       "        vertical-align: middle;\n",
       "    }\n",
       "\n",
       "    .dataframe tbody tr th {\n",
       "        vertical-align: top;\n",
       "    }\n",
       "\n",
       "    .dataframe thead th {\n",
       "        text-align: right;\n",
       "    }\n",
       "</style>\n",
       "<table border=\"1\" class=\"dataframe\">\n",
       "  <thead>\n",
       "    <tr style=\"text-align: right;\">\n",
       "      <th></th>\n",
       "      <th>beta</th>\n",
       "      <th>exponential</th>\n",
       "      <th>normal_p</th>\n",
       "      <th>normal_l</th>\n",
       "      <th>bimodal</th>\n",
       "    </tr>\n",
       "  </thead>\n",
       "  <tbody>\n",
       "    <tr>\n",
       "      <th>count</th>\n",
       "      <td>1000.000000</td>\n",
       "      <td>1000.000000</td>\n",
       "      <td>1000.000000</td>\n",
       "      <td>1000.000000</td>\n",
       "      <td>1000.000000</td>\n",
       "    </tr>\n",
       "    <tr>\n",
       "      <th>mean</th>\n",
       "      <td>49.734591</td>\n",
       "      <td>10.610794</td>\n",
       "      <td>10.069022</td>\n",
       "      <td>10.295809</td>\n",
       "      <td>-0.114412</td>\n",
       "    </tr>\n",
       "    <tr>\n",
       "      <th>std</th>\n",
       "      <td>8.736741</td>\n",
       "      <td>11.164151</td>\n",
       "      <td>1.980545</td>\n",
       "      <td>9.909030</td>\n",
       "      <td>20.072286</td>\n",
       "    </tr>\n",
       "    <tr>\n",
       "      <th>min</th>\n",
       "      <td>9.434500</td>\n",
       "      <td>0.005315</td>\n",
       "      <td>4.264061</td>\n",
       "      <td>-19.556253</td>\n",
       "      <td>-28.955281</td>\n",
       "    </tr>\n",
       "    <tr>\n",
       "      <th>25%</th>\n",
       "      <td>45.340224</td>\n",
       "      <td>3.022400</td>\n",
       "      <td>8.739843</td>\n",
       "      <td>3.732146</td>\n",
       "      <td>-20.052034</td>\n",
       "    </tr>\n",
       "    <tr>\n",
       "      <th>50%</th>\n",
       "      <td>51.673917</td>\n",
       "      <td>6.994495</td>\n",
       "      <td>9.978941</td>\n",
       "      <td>10.237973</td>\n",
       "      <td>0.696395</td>\n",
       "    </tr>\n",
       "    <tr>\n",
       "      <th>75%</th>\n",
       "      <td>56.517784</td>\n",
       "      <td>14.232264</td>\n",
       "      <td>11.421458</td>\n",
       "      <td>17.270651</td>\n",
       "      <td>19.783775</td>\n",
       "    </tr>\n",
       "    <tr>\n",
       "      <th>max</th>\n",
       "      <td>59.999930</td>\n",
       "      <td>102.099523</td>\n",
       "      <td>16.253433</td>\n",
       "      <td>40.074393</td>\n",
       "      <td>28.856345</td>\n",
       "    </tr>\n",
       "  </tbody>\n",
       "</table>\n",
       "</div>"
      ],
      "text/plain": [
       "              beta  exponential     normal_p     normal_l      bimodal\n",
       "count  1000.000000  1000.000000  1000.000000  1000.000000  1000.000000\n",
       "mean     49.734591    10.610794    10.069022    10.295809    -0.114412\n",
       "std       8.736741    11.164151     1.980545     9.909030    20.072286\n",
       "min       9.434500     0.005315     4.264061   -19.556253   -28.955281\n",
       "25%      45.340224     3.022400     8.739843     3.732146   -20.052034\n",
       "50%      51.673917     6.994495     9.978941    10.237973     0.696395\n",
       "75%      56.517784    14.232264    11.421458    17.270651    19.783775\n",
       "max      59.999930   102.099523    16.253433    40.074393    28.856345"
      ]
     },
     "execution_count": 8,
     "metadata": {},
     "output_type": "execute_result"
    }
   ],
   "source": [
    "#Data information\n",
    "df.describe()"
   ]
  },
  {
   "cell_type": "code",
   "execution_count": 14,
   "id": "33b6c2be",
   "metadata": {},
   "outputs": [],
   "source": [
    "#Add random super big data\n",
    "normal_big = np.random.normal(100000, 100000, (1000, 1))\n",
    "df['normal_big'] = normal_big"
   ]
  },
  {
   "cell_type": "code",
   "execution_count": 15,
   "id": "ac890978",
   "metadata": {},
   "outputs": [
    {
     "data": {
      "text/html": [
       "<div>\n",
       "<style scoped>\n",
       "    .dataframe tbody tr th:only-of-type {\n",
       "        vertical-align: middle;\n",
       "    }\n",
       "\n",
       "    .dataframe tbody tr th {\n",
       "        vertical-align: top;\n",
       "    }\n",
       "\n",
       "    .dataframe thead th {\n",
       "        text-align: right;\n",
       "    }\n",
       "</style>\n",
       "<table border=\"1\" class=\"dataframe\">\n",
       "  <thead>\n",
       "    <tr style=\"text-align: right;\">\n",
       "      <th></th>\n",
       "      <th>beta</th>\n",
       "      <th>exponential</th>\n",
       "      <th>normal_p</th>\n",
       "      <th>normal_l</th>\n",
       "      <th>bimodal</th>\n",
       "      <th>normal_big</th>\n",
       "    </tr>\n",
       "  </thead>\n",
       "  <tbody>\n",
       "    <tr>\n",
       "      <th>0</th>\n",
       "      <td>52.018935</td>\n",
       "      <td>0.957364</td>\n",
       "      <td>11.635142</td>\n",
       "      <td>32.897496</td>\n",
       "      <td>16.429385</td>\n",
       "      <td>228830.970017</td>\n",
       "    </tr>\n",
       "    <tr>\n",
       "      <th>1</th>\n",
       "      <td>56.930009</td>\n",
       "      <td>13.015245</td>\n",
       "      <td>6.699572</td>\n",
       "      <td>1.771047</td>\n",
       "      <td>14.930418</td>\n",
       "      <td>213584.582594</td>\n",
       "    </tr>\n",
       "    <tr>\n",
       "      <th>2</th>\n",
       "      <td>47.811140</td>\n",
       "      <td>19.614677</td>\n",
       "      <td>9.912446</td>\n",
       "      <td>2.311583</td>\n",
       "      <td>19.605573</td>\n",
       "      <td>224396.946783</td>\n",
       "    </tr>\n",
       "    <tr>\n",
       "      <th>3</th>\n",
       "      <td>35.052393</td>\n",
       "      <td>5.169527</td>\n",
       "      <td>11.016239</td>\n",
       "      <td>3.376385</td>\n",
       "      <td>17.048765</td>\n",
       "      <td>41552.533722</td>\n",
       "    </tr>\n",
       "    <tr>\n",
       "      <th>4</th>\n",
       "      <td>50.569352</td>\n",
       "      <td>9.374055</td>\n",
       "      <td>9.652151</td>\n",
       "      <td>-1.199521</td>\n",
       "      <td>21.330441</td>\n",
       "      <td>33386.203243</td>\n",
       "    </tr>\n",
       "  </tbody>\n",
       "</table>\n",
       "</div>"
      ],
      "text/plain": [
       "        beta  exponential   normal_p   normal_l    bimodal     normal_big\n",
       "0  52.018935     0.957364  11.635142  32.897496  16.429385  228830.970017\n",
       "1  56.930009    13.015245   6.699572   1.771047  14.930418  213584.582594\n",
       "2  47.811140    19.614677   9.912446   2.311583  19.605573  224396.946783\n",
       "3  35.052393     5.169527  11.016239   3.376385  17.048765   41552.533722\n",
       "4  50.569352     9.374055   9.652151  -1.199521  21.330441   33386.203243"
      ]
     },
     "execution_count": 15,
     "metadata": {},
     "output_type": "execute_result"
    }
   ],
   "source": [
    "df.head()"
   ]
  },
  {
   "cell_type": "code",
   "execution_count": 16,
   "id": "4dccec3f",
   "metadata": {},
   "outputs": [
    {
     "data": {
      "text/plain": [
       "<AxesSubplot:ylabel='Density'>"
      ]
     },
     "execution_count": 16,
     "metadata": {},
     "output_type": "execute_result"
    },
    {
     "data": {
      "image/png": "[encoded data removed]",
      "text/plain": [
       "<Figure size 432x288 with 1 Axes>"
      ]
     },
     "metadata": {
      "needs_background": "light"
     },
     "output_type": "display_data"
    }
   ],
   "source": [
    "sns.kdeplot(data=df)"
   ]
  },
  {
   "cell_type": "code",
   "execution_count": 17,
   "id": "4cf5ea56",
   "metadata": {},
   "outputs": [
    {
     "data": {
      "text/plain": [
       "<AxesSubplot:>"
      ]
     },
     "execution_count": 17,
     "metadata": {},
     "output_type": "execute_result"
    },
    {
     "data": {
      "image/png": "[encoded data removed]",
      "text/plain": [
       "<Figure size 432x288 with 1 Axes>"
      ]
     },
     "metadata": {
      "needs_background": "light"
     },
     "output_type": "display_data"
    }
   ],
   "source": [
    "df.boxplot()"
   ]
  },
  {
   "cell_type": "code",
   "execution_count": 21,
   "id": "3f60fe0a",
   "metadata": {},
   "outputs": [
    {
     "name": "stdout",
     "output_type": "stream",
     "text": [
      "<class 'numpy.ndarray'>\n"
     ]
    }
   ],
   "source": [
    "#Stand standardized data\n",
    "s_scaler = StandardScaler()\n",
    "df_s = s_scaler.fit_transform(df)\n",
    "print(type(df_s))"
   ]
  },
  {
   "cell_type": "code",
   "execution_count": 22,
   "id": "fb616b6d",
   "metadata": {},
   "outputs": [
    {
     "data": {
      "text/plain": [
       "array([[ 0.26159496, -0.86511379,  0.79114759,  2.28205957,  0.82462334,\n",
       "         1.26985811],\n",
       "       [ 0.82399365,  0.21548019, -1.70212556, -0.8607328 ,  0.74990754,\n",
       "         1.11958159],\n",
       "       [-0.22026674,  0.80690308, -0.07909677, -0.80615568,  0.98294001,\n",
       "         1.22615401],\n",
       "       ...,\n",
       "       [ 0.8224786 , -0.46587833,  0.29251643,  1.31738592, -0.86711439,\n",
       "        -0.73071689],\n",
       "       [ 0.86762051,  3.71510522,  1.06552438, -1.90653724, -1.18705182,\n",
       "        -0.78522477],\n",
       "       [ 0.55365968,  1.26817858, -1.00858085,  0.39373268, -1.10587462,\n",
       "        -1.31983556]])"
      ]
     },
     "execution_count": 22,
     "metadata": {},
     "output_type": "execute_result"
    }
   ],
   "source": [
    "df_s"
   ]
  },
  {
   "cell_type": "code",
   "execution_count": 25,
   "id": "4084e529",
   "metadata": {},
   "outputs": [
    {
     "data": {
      "text/plain": [
       "['beta', 'exponential', 'normal_p', 'normal_l', 'bimodal', 'normal_big']"
      ]
     },
     "execution_count": 25,
     "metadata": {},
     "output_type": "execute_result"
    }
   ],
   "source": [
    "col_names = df.columns.tolist()\n",
    "col_names"
   ]
  },
  {
   "cell_type": "code",
   "execution_count": 26,
   "id": "b67d6a13",
   "metadata": {},
   "outputs": [
    {
     "data": {
      "text/html": [
       "<div>\n",
       "<style scoped>\n",
       "    .dataframe tbody tr th:only-of-type {\n",
       "        vertical-align: middle;\n",
       "    }\n",
       "\n",
       "    .dataframe tbody tr th {\n",
       "        vertical-align: top;\n",
       "    }\n",
       "\n",
       "    .dataframe thead th {\n",
       "        text-align: right;\n",
       "    }\n",
       "</style>\n",
       "<table border=\"1\" class=\"dataframe\">\n",
       "  <thead>\n",
       "    <tr style=\"text-align: right;\">\n",
       "      <th></th>\n",
       "      <th>beta</th>\n",
       "      <th>exponential</th>\n",
       "      <th>normal_p</th>\n",
       "      <th>normal_l</th>\n",
       "      <th>bimodal</th>\n",
       "      <th>normal_big</th>\n",
       "    </tr>\n",
       "  </thead>\n",
       "  <tbody>\n",
       "    <tr>\n",
       "      <th>0</th>\n",
       "      <td>0.261595</td>\n",
       "      <td>-0.865114</td>\n",
       "      <td>0.791148</td>\n",
       "      <td>2.282060</td>\n",
       "      <td>0.824623</td>\n",
       "      <td>1.269858</td>\n",
       "    </tr>\n",
       "    <tr>\n",
       "      <th>1</th>\n",
       "      <td>0.823994</td>\n",
       "      <td>0.215480</td>\n",
       "      <td>-1.702126</td>\n",
       "      <td>-0.860733</td>\n",
       "      <td>0.749908</td>\n",
       "      <td>1.119582</td>\n",
       "    </tr>\n",
       "    <tr>\n",
       "      <th>2</th>\n",
       "      <td>-0.220267</td>\n",
       "      <td>0.806903</td>\n",
       "      <td>-0.079097</td>\n",
       "      <td>-0.806156</td>\n",
       "      <td>0.982940</td>\n",
       "      <td>1.226154</td>\n",
       "    </tr>\n",
       "    <tr>\n",
       "      <th>3</th>\n",
       "      <td>-1.681353</td>\n",
       "      <td>-0.487631</td>\n",
       "      <td>0.478500</td>\n",
       "      <td>-0.698644</td>\n",
       "      <td>0.855496</td>\n",
       "      <td>-0.576058</td>\n",
       "    </tr>\n",
       "    <tr>\n",
       "      <th>4</th>\n",
       "      <td>0.095594</td>\n",
       "      <td>-0.110833</td>\n",
       "      <td>-0.210588</td>\n",
       "      <td>-1.160667</td>\n",
       "      <td>1.068916</td>\n",
       "      <td>-0.656550</td>\n",
       "    </tr>\n",
       "  </tbody>\n",
       "</table>\n",
       "</div>"
      ],
      "text/plain": [
       "       beta  exponential  normal_p  normal_l   bimodal  normal_big\n",
       "0  0.261595    -0.865114  0.791148  2.282060  0.824623    1.269858\n",
       "1  0.823994     0.215480 -1.702126 -0.860733  0.749908    1.119582\n",
       "2 -0.220267     0.806903 -0.079097 -0.806156  0.982940    1.226154\n",
       "3 -1.681353    -0.487631  0.478500 -0.698644  0.855496   -0.576058\n",
       "4  0.095594    -0.110833 -0.210588 -1.160667  1.068916   -0.656550"
      ]
     },
     "execution_count": 26,
     "metadata": {},
     "output_type": "execute_result"
    }
   ],
   "source": [
    "df_s = pd.DataFrame(df_s, columns=col_names)\n",
    "df_s.head()"
   ]
  },
  {
   "cell_type": "code",
   "execution_count": 27,
   "id": "83eed883",
   "metadata": {},
   "outputs": [
    {
     "data": {
      "text/plain": [
       "<AxesSubplot:ylabel='Density'>"
      ]
     },
     "execution_count": 27,
     "metadata": {},
     "output_type": "execute_result"
    },
    {
     "data": {
      "image/png": "[encoded data removed]",
      "text/plain": [
       "<Figure size 432x288 with 1 Axes>"
      ]
     },
     "metadata": {
      "needs_background": "light"
     },
     "output_type": "display_data"
    }
   ],
   "source": [
    "#Visualization df_s\n",
    "sns.kdeplot(data=df_s)"
   ]
  },
  {
   "cell_type": "code",
   "execution_count": 30,
   "id": "a9047c4b",
   "metadata": {},
   "outputs": [
    {
     "data": {
      "text/plain": [
       "<AxesSubplot:xlabel='normal_big', ylabel='Density'>"
      ]
     },
     "execution_count": 30,
     "metadata": {},
     "output_type": "execute_result"
    },
    {
     "data": {
      "image/png": "[encoded data removed]",
      "text/plain": [
       "<Figure size 432x288 with 1 Axes>"
      ]
     },
     "metadata": {
      "needs_background": "light"
     },
     "output_type": "display_data"
    }
   ],
   "source": [
    "df_normal_big = df_s['normal_big']\n",
    "sns.kdeplot(data=df_normal_big)"
   ]
  },
  {
   "cell_type": "code",
   "execution_count": 28,
   "id": "5e5a7c6c",
   "metadata": {},
   "outputs": [
    {
     "data": {
      "text/html": [
       "<div>\n",
       "<style scoped>\n",
       "    .dataframe tbody tr th:only-of-type {\n",
       "        vertical-align: middle;\n",
       "    }\n",
       "\n",
       "    .dataframe tbody tr th {\n",
       "        vertical-align: top;\n",
       "    }\n",
       "\n",
       "    .dataframe thead th {\n",
       "        text-align: right;\n",
       "    }\n",
       "</style>\n",
       "<table border=\"1\" class=\"dataframe\">\n",
       "  <thead>\n",
       "    <tr style=\"text-align: right;\">\n",
       "      <th></th>\n",
       "      <th>beta</th>\n",
       "      <th>exponential</th>\n",
       "      <th>normal_p</th>\n",
       "      <th>normal_l</th>\n",
       "      <th>bimodal</th>\n",
       "      <th>normal_big</th>\n",
       "    </tr>\n",
       "  </thead>\n",
       "  <tbody>\n",
       "    <tr>\n",
       "      <th>count</th>\n",
       "      <td>1.000000e+03</td>\n",
       "      <td>1.000000e+03</td>\n",
       "      <td>1.000000e+03</td>\n",
       "      <td>1.000000e+03</td>\n",
       "      <td>1.000000e+03</td>\n",
       "      <td>1.000000e+03</td>\n",
       "    </tr>\n",
       "    <tr>\n",
       "      <th>mean</th>\n",
       "      <td>-1.092459e-16</td>\n",
       "      <td>-4.485301e-17</td>\n",
       "      <td>3.179679e-16</td>\n",
       "      <td>5.639933e-17</td>\n",
       "      <td>-6.012968e-16</td>\n",
       "      <td>1.398881e-17</td>\n",
       "    </tr>\n",
       "    <tr>\n",
       "      <th>std</th>\n",
       "      <td>1.000500e+00</td>\n",
       "      <td>1.000500e+00</td>\n",
       "      <td>1.000500e+00</td>\n",
       "      <td>1.000500e+00</td>\n",
       "      <td>1.000500e+00</td>\n",
       "      <td>1.000500e+00</td>\n",
       "    </tr>\n",
       "    <tr>\n",
       "      <th>min</th>\n",
       "      <td>-4.615023e+00</td>\n",
       "      <td>-9.504338e-01</td>\n",
       "      <td>-2.932458e+00</td>\n",
       "      <td>-3.014119e+00</td>\n",
       "      <td>-1.437569e+00</td>\n",
       "      <td>-3.042700e+00</td>\n",
       "    </tr>\n",
       "    <tr>\n",
       "      <th>25%</th>\n",
       "      <td>-5.032271e-01</td>\n",
       "      <td>-6.800509e-01</td>\n",
       "      <td>-6.714537e-01</td>\n",
       "      <td>-6.627235e-01</td>\n",
       "      <td>-9.937881e-01</td>\n",
       "      <td>-6.498880e-01</td>\n",
       "    </tr>\n",
       "    <tr>\n",
       "      <th>50%</th>\n",
       "      <td>2.220847e-01</td>\n",
       "      <td>-3.240828e-01</td>\n",
       "      <td>-4.550564e-02</td>\n",
       "      <td>-5.839612e-03</td>\n",
       "      <td>4.041459e-02</td>\n",
       "      <td>2.743599e-02</td>\n",
       "    </tr>\n",
       "    <tr>\n",
       "      <th>75%</th>\n",
       "      <td>7.767871e-01</td>\n",
       "      <td>3.245461e-01</td>\n",
       "      <td>6.832020e-01</td>\n",
       "      <td>7.042397e-01</td>\n",
       "      <td>9.918225e-01</td>\n",
       "      <td>6.702660e-01</td>\n",
       "    </tr>\n",
       "    <tr>\n",
       "      <th>max</th>\n",
       "      <td>1.175550e+00</td>\n",
       "      <td>8.198967e+00</td>\n",
       "      <td>3.124143e+00</td>\n",
       "      <td>3.006700e+00</td>\n",
       "      <td>1.444043e+00</td>\n",
       "      <td>2.969525e+00</td>\n",
       "    </tr>\n",
       "  </tbody>\n",
       "</table>\n",
       "</div>"
      ],
      "text/plain": [
       "               beta   exponential      normal_p      normal_l       bimodal  \\\n",
       "count  1.000000e+03  1.000000e+03  1.000000e+03  1.000000e+03  1.000000e+03   \n",
       "mean  -1.092459e-16 -4.485301e-17  3.179679e-16  5.639933e-17 -6.012968e-16   \n",
       "std    1.000500e+00  1.000500e+00  1.000500e+00  1.000500e+00  1.000500e+00   \n",
       "min   -4.615023e+00 -9.504338e-01 -2.932458e+00 -3.014119e+00 -1.437569e+00   \n",
       "25%   -5.032271e-01 -6.800509e-01 -6.714537e-01 -6.627235e-01 -9.937881e-01   \n",
       "50%    2.220847e-01 -3.240828e-01 -4.550564e-02 -5.839612e-03  4.041459e-02   \n",
       "75%    7.767871e-01  3.245461e-01  6.832020e-01  7.042397e-01  9.918225e-01   \n",
       "max    1.175550e+00  8.198967e+00  3.124143e+00  3.006700e+00  1.444043e+00   \n",
       "\n",
       "         normal_big  \n",
       "count  1.000000e+03  \n",
       "mean   1.398881e-17  \n",
       "std    1.000500e+00  \n",
       "min   -3.042700e+00  \n",
       "25%   -6.498880e-01  \n",
       "50%    2.743599e-02  \n",
       "75%    6.702660e-01  \n",
       "max    2.969525e+00  "
      ]
     },
     "execution_count": 28,
     "metadata": {},
     "output_type": "execute_result"
    }
   ],
   "source": [
    "df_s.describe()"
   ]
  },
  {
   "cell_type": "code",
   "execution_count": 29,
   "id": "238571cd",
   "metadata": {},
   "outputs": [
    {
     "data": {
      "text/plain": [
       "<AxesSubplot:>"
      ]
     },
     "execution_count": 29,
     "metadata": {},
     "output_type": "execute_result"
    },
    {
     "data": {
      "image/png": "[encoded data removed]",
      "text/plain": [
       "<Figure size 432x288 with 1 Axes>"
      ]
     },
     "metadata": {
      "needs_background": "light"
     },
     "output_type": "display_data"
    }
   ],
   "source": [
    "df_s.boxplot()"
   ]
  }
 ],
 "metadata": {
  "kernelspec": {
   "display_name": "Python 3 (ipykernel)",
   "language": "python",
   "name": "python3"
  },
  "language_info": {
   "codemirror_mode": {
    "name": "ipython",
    "version": 3
   },
   "file_extension": ".py",
   "mimetype": "text/x-python",
   "name": "python",
   "nbconvert_exporter": "python",
   "pygments_lexer": "ipython3",
   "version": "3.9.7"
  }
 },
 "nbformat": 4,
 "nbformat_minor": 5
}
