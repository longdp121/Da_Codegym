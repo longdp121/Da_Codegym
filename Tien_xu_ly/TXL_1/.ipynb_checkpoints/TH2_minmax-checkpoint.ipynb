{
 "cells": [
  {
   "cell_type": "code",
   "execution_count": 1,
   "id": "14b14e5d",
   "metadata": {},
   "outputs": [],
   "source": [
    "import pandas as pd\n",
    "import numpy as np\n",
    "import matplotlib.pyplot as plt\n",
    "import seaborn as sns\n",
    "from sklearn.preprocessing import MinMaxScaler"
   ]
  },
  {
   "cell_type": "code",
   "execution_count": 3,
   "id": "53ff79d2",
   "metadata": {},
   "outputs": [],
   "source": [
    "#Creat data\n",
    "data = {\n",
    "    'beta': np.random.beta(5, 1, 1000) * 60,\n",
    "    'exponential': np.random.exponential(10, 1000),\n",
    "    'normal_p': np.random.normal(10, 2, 1000),\n",
    "    'normal_l': np.random.normal(10, 10, 1000)\n",
    "}\n",
    "df = pd.DataFrame(data)"
   ]
  },
  {
   "cell_type": "code",
   "execution_count": 9,
   "id": "a0464eaa",
   "metadata": {},
   "outputs": [],
   "source": [
    "# df.head()"
   ]
  },
  {
   "cell_type": "code",
   "execution_count": 6,
   "id": "25b53447",
   "metadata": {},
   "outputs": [],
   "source": [
    "first_half = np.random.normal(20, 3, 500)\n",
    "second_half = np.random.normal(-20, 3, 500)\n",
    "bimodal = np.concatenate([first_half, second_half])\n",
    "# bimodal"
   ]
  },
  {
   "cell_type": "code",
   "execution_count": 7,
   "id": "13741d55",
   "metadata": {},
   "outputs": [],
   "source": [
    "df['bimocal'] = bimodal"
   ]
  },
  {
   "cell_type": "code",
   "execution_count": 8,
   "id": "e3b8d3b0",
   "metadata": {},
   "outputs": [
    {
     "data": {
      "text/html": [
       "<div>\n",
       "<style scoped>\n",
       "    .dataframe tbody tr th:only-of-type {\n",
       "        vertical-align: middle;\n",
       "    }\n",
       "\n",
       "    .dataframe tbody tr th {\n",
       "        vertical-align: top;\n",
       "    }\n",
       "\n",
       "    .dataframe thead th {\n",
       "        text-align: right;\n",
       "    }\n",
       "</style>\n",
       "<table border=\"1\" class=\"dataframe\">\n",
       "  <thead>\n",
       "    <tr style=\"text-align: right;\">\n",
       "      <th></th>\n",
       "      <th>beta</th>\n",
       "      <th>exponential</th>\n",
       "      <th>normal_p</th>\n",
       "      <th>normal_l</th>\n",
       "      <th>bimocal</th>\n",
       "    </tr>\n",
       "  </thead>\n",
       "  <tbody>\n",
       "    <tr>\n",
       "      <th>0</th>\n",
       "      <td>55.302196</td>\n",
       "      <td>3.938013</td>\n",
       "      <td>9.354748</td>\n",
       "      <td>8.134236</td>\n",
       "      <td>22.047043</td>\n",
       "    </tr>\n",
       "    <tr>\n",
       "      <th>1</th>\n",
       "      <td>52.679955</td>\n",
       "      <td>3.926368</td>\n",
       "      <td>11.812159</td>\n",
       "      <td>6.253726</td>\n",
       "      <td>23.668013</td>\n",
       "    </tr>\n",
       "    <tr>\n",
       "      <th>2</th>\n",
       "      <td>56.582905</td>\n",
       "      <td>19.355592</td>\n",
       "      <td>10.550226</td>\n",
       "      <td>38.745666</td>\n",
       "      <td>23.143025</td>\n",
       "    </tr>\n",
       "    <tr>\n",
       "      <th>3</th>\n",
       "      <td>58.654720</td>\n",
       "      <td>19.194501</td>\n",
       "      <td>6.421975</td>\n",
       "      <td>2.056148</td>\n",
       "      <td>16.420250</td>\n",
       "    </tr>\n",
       "    <tr>\n",
       "      <th>4</th>\n",
       "      <td>44.473500</td>\n",
       "      <td>4.240570</td>\n",
       "      <td>11.801870</td>\n",
       "      <td>10.715850</td>\n",
       "      <td>20.242457</td>\n",
       "    </tr>\n",
       "  </tbody>\n",
       "</table>\n",
       "</div>"
      ],
      "text/plain": [
       "        beta  exponential   normal_p   normal_l    bimocal\n",
       "0  55.302196     3.938013   9.354748   8.134236  22.047043\n",
       "1  52.679955     3.926368  11.812159   6.253726  23.668013\n",
       "2  56.582905    19.355592  10.550226  38.745666  23.143025\n",
       "3  58.654720    19.194501   6.421975   2.056148  16.420250\n",
       "4  44.473500     4.240570  11.801870  10.715850  20.242457"
      ]
     },
     "execution_count": 8,
     "metadata": {},
     "output_type": "execute_result"
    }
   ],
   "source": [
    "df.head()"
   ]
  },
  {
   "cell_type": "code",
   "execution_count": 10,
   "id": "7895bd03",
   "metadata": {},
   "outputs": [
    {
     "data": {
      "text/plain": [
       "<AxesSubplot:ylabel='Density'>"
      ]
     },
     "execution_count": 10,
     "metadata": {},
     "output_type": "execute_result"
    },
    {
     "data": {
      "image/png": "[encoded data removed]",
      "text/plain": [
       "<Figure size 432x288 with 1 Axes>"
      ]
     },
     "metadata": {
      "needs_background": "light"
     },
     "output_type": "display_data"
    }
   ],
   "source": [
    "#Visualization data\n",
    "sns.kdeplot(data=df)"
   ]
  },
  {
   "cell_type": "code",
   "execution_count": 11,
   "id": "98a2412f",
   "metadata": {},
   "outputs": [
    {
     "data": {
      "text/html": [
       "<div>\n",
       "<style scoped>\n",
       "    .dataframe tbody tr th:only-of-type {\n",
       "        vertical-align: middle;\n",
       "    }\n",
       "\n",
       "    .dataframe tbody tr th {\n",
       "        vertical-align: top;\n",
       "    }\n",
       "\n",
       "    .dataframe thead th {\n",
       "        text-align: right;\n",
       "    }\n",
       "</style>\n",
       "<table border=\"1\" class=\"dataframe\">\n",
       "  <thead>\n",
       "    <tr style=\"text-align: right;\">\n",
       "      <th></th>\n",
       "      <th>beta</th>\n",
       "      <th>exponential</th>\n",
       "      <th>normal_p</th>\n",
       "      <th>normal_l</th>\n",
       "      <th>bimocal</th>\n",
       "    </tr>\n",
       "  </thead>\n",
       "  <tbody>\n",
       "    <tr>\n",
       "      <th>count</th>\n",
       "      <td>1000.000000</td>\n",
       "      <td>1000.000000</td>\n",
       "      <td>1000.000000</td>\n",
       "      <td>1000.000000</td>\n",
       "      <td>1000.000000</td>\n",
       "    </tr>\n",
       "    <tr>\n",
       "      <th>mean</th>\n",
       "      <td>49.889356</td>\n",
       "      <td>9.860584</td>\n",
       "      <td>9.969426</td>\n",
       "      <td>10.180796</td>\n",
       "      <td>0.171673</td>\n",
       "    </tr>\n",
       "    <tr>\n",
       "      <th>std</th>\n",
       "      <td>8.576907</td>\n",
       "      <td>9.980756</td>\n",
       "      <td>1.979935</td>\n",
       "      <td>9.790760</td>\n",
       "      <td>20.341537</td>\n",
       "    </tr>\n",
       "    <tr>\n",
       "      <th>min</th>\n",
       "      <td>11.252705</td>\n",
       "      <td>0.003552</td>\n",
       "      <td>2.237684</td>\n",
       "      <td>-16.314854</td>\n",
       "      <td>-29.710496</td>\n",
       "    </tr>\n",
       "    <tr>\n",
       "      <th>25%</th>\n",
       "      <td>45.307055</td>\n",
       "      <td>2.889892</td>\n",
       "      <td>8.604275</td>\n",
       "      <td>3.410315</td>\n",
       "      <td>-19.830420</td>\n",
       "    </tr>\n",
       "    <tr>\n",
       "      <th>50%</th>\n",
       "      <td>52.146954</td>\n",
       "      <td>6.937085</td>\n",
       "      <td>10.016234</td>\n",
       "      <td>9.784000</td>\n",
       "      <td>0.272255</td>\n",
       "    </tr>\n",
       "    <tr>\n",
       "      <th>75%</th>\n",
       "      <td>56.527332</td>\n",
       "      <td>13.425967</td>\n",
       "      <td>11.281721</td>\n",
       "      <td>16.458147</td>\n",
       "      <td>20.229504</td>\n",
       "    </tr>\n",
       "    <tr>\n",
       "      <th>max</th>\n",
       "      <td>59.977529</td>\n",
       "      <td>83.742734</td>\n",
       "      <td>15.554165</td>\n",
       "      <td>47.994081</td>\n",
       "      <td>28.987085</td>\n",
       "    </tr>\n",
       "  </tbody>\n",
       "</table>\n",
       "</div>"
      ],
      "text/plain": [
       "              beta  exponential     normal_p     normal_l      bimocal\n",
       "count  1000.000000  1000.000000  1000.000000  1000.000000  1000.000000\n",
       "mean     49.889356     9.860584     9.969426    10.180796     0.171673\n",
       "std       8.576907     9.980756     1.979935     9.790760    20.341537\n",
       "min      11.252705     0.003552     2.237684   -16.314854   -29.710496\n",
       "25%      45.307055     2.889892     8.604275     3.410315   -19.830420\n",
       "50%      52.146954     6.937085    10.016234     9.784000     0.272255\n",
       "75%      56.527332    13.425967    11.281721    16.458147    20.229504\n",
       "max      59.977529    83.742734    15.554165    47.994081    28.987085"
      ]
     },
     "execution_count": 11,
     "metadata": {},
     "output_type": "execute_result"
    }
   ],
   "source": [
    "df.describe()"
   ]
  },
  {
   "cell_type": "code",
   "execution_count": 12,
   "id": "b7d41651",
   "metadata": {},
   "outputs": [],
   "source": [
    "#Add super big data\n",
    "normal_big = np.random.normal(1000000, 10000, (1000, 1))\n",
    "df['nomal_big'] = normal_big"
   ]
  },
  {
   "cell_type": "code",
   "execution_count": 13,
   "id": "6fe75104",
   "metadata": {},
   "outputs": [
    {
     "data": {
      "text/html": [
       "<div>\n",
       "<style scoped>\n",
       "    .dataframe tbody tr th:only-of-type {\n",
       "        vertical-align: middle;\n",
       "    }\n",
       "\n",
       "    .dataframe tbody tr th {\n",
       "        vertical-align: top;\n",
       "    }\n",
       "\n",
       "    .dataframe thead th {\n",
       "        text-align: right;\n",
       "    }\n",
       "</style>\n",
       "<table border=\"1\" class=\"dataframe\">\n",
       "  <thead>\n",
       "    <tr style=\"text-align: right;\">\n",
       "      <th></th>\n",
       "      <th>beta</th>\n",
       "      <th>exponential</th>\n",
       "      <th>normal_p</th>\n",
       "      <th>normal_l</th>\n",
       "      <th>bimocal</th>\n",
       "      <th>nomal_big</th>\n",
       "    </tr>\n",
       "  </thead>\n",
       "  <tbody>\n",
       "    <tr>\n",
       "      <th>0</th>\n",
       "      <td>55.302196</td>\n",
       "      <td>3.938013</td>\n",
       "      <td>9.354748</td>\n",
       "      <td>8.134236</td>\n",
       "      <td>22.047043</td>\n",
       "      <td>9.958202e+05</td>\n",
       "    </tr>\n",
       "    <tr>\n",
       "      <th>1</th>\n",
       "      <td>52.679955</td>\n",
       "      <td>3.926368</td>\n",
       "      <td>11.812159</td>\n",
       "      <td>6.253726</td>\n",
       "      <td>23.668013</td>\n",
       "      <td>1.015137e+06</td>\n",
       "    </tr>\n",
       "    <tr>\n",
       "      <th>2</th>\n",
       "      <td>56.582905</td>\n",
       "      <td>19.355592</td>\n",
       "      <td>10.550226</td>\n",
       "      <td>38.745666</td>\n",
       "      <td>23.143025</td>\n",
       "      <td>9.966515e+05</td>\n",
       "    </tr>\n",
       "    <tr>\n",
       "      <th>3</th>\n",
       "      <td>58.654720</td>\n",
       "      <td>19.194501</td>\n",
       "      <td>6.421975</td>\n",
       "      <td>2.056148</td>\n",
       "      <td>16.420250</td>\n",
       "      <td>1.008965e+06</td>\n",
       "    </tr>\n",
       "    <tr>\n",
       "      <th>4</th>\n",
       "      <td>44.473500</td>\n",
       "      <td>4.240570</td>\n",
       "      <td>11.801870</td>\n",
       "      <td>10.715850</td>\n",
       "      <td>20.242457</td>\n",
       "      <td>1.002843e+06</td>\n",
       "    </tr>\n",
       "  </tbody>\n",
       "</table>\n",
       "</div>"
      ],
      "text/plain": [
       "        beta  exponential   normal_p   normal_l    bimocal     nomal_big\n",
       "0  55.302196     3.938013   9.354748   8.134236  22.047043  9.958202e+05\n",
       "1  52.679955     3.926368  11.812159   6.253726  23.668013  1.015137e+06\n",
       "2  56.582905    19.355592  10.550226  38.745666  23.143025  9.966515e+05\n",
       "3  58.654720    19.194501   6.421975   2.056148  16.420250  1.008965e+06\n",
       "4  44.473500     4.240570  11.801870  10.715850  20.242457  1.002843e+06"
      ]
     },
     "execution_count": 13,
     "metadata": {},
     "output_type": "execute_result"
    }
   ],
   "source": [
    "df.head()"
   ]
  },
  {
   "cell_type": "code",
   "execution_count": 14,
   "id": "4b62c657",
   "metadata": {},
   "outputs": [
    {
     "data": {
      "text/plain": [
       "<AxesSubplot:ylabel='Density'>"
      ]
     },
     "execution_count": 14,
     "metadata": {},
     "output_type": "execute_result"
    },
    {
     "data": {
      "image/png": "[encoded data removed]",
      "text/plain": [
       "<Figure size 432x288 with 1 Axes>"
      ]
     },
     "metadata": {
      "needs_background": "light"
     },
     "output_type": "display_data"
    }
   ],
   "source": [
    "sns.kdeplot(data=df)"
   ]
  },
  {
   "cell_type": "code",
   "execution_count": 15,
   "id": "d96a0e71",
   "metadata": {},
   "outputs": [
    {
     "data": {
      "text/plain": [
       "<AxesSubplot:>"
      ]
     },
     "execution_count": 15,
     "metadata": {},
     "output_type": "execute_result"
    },
    {
     "data": {
      "image/png": "[encoded data removed]",
      "text/plain": [
       "<Figure size 432x288 with 1 Axes>"
      ]
     },
     "metadata": {
      "needs_background": "light"
     },
     "output_type": "display_data"
    }
   ],
   "source": [
    "df.boxplot()"
   ]
  },
  {
   "cell_type": "code",
   "execution_count": 16,
   "id": "fc72986d",
   "metadata": {},
   "outputs": [],
   "source": [
    "scaler = MinMaxScaler()"
   ]
  },
  {
   "cell_type": "code",
   "execution_count": 18,
   "id": "8b36eeca",
   "metadata": {},
   "outputs": [],
   "source": [
    "df_s = scaler.fit_transform(df)"
   ]
  },
  {
   "cell_type": "code",
   "execution_count": 21,
   "id": "c23b448c",
   "metadata": {},
   "outputs": [
    {
     "data": {
      "text/plain": [
       "(1000, 6)"
      ]
     },
     "execution_count": 21,
     "metadata": {},
     "output_type": "execute_result"
    }
   ],
   "source": [
    "# df_s.shape"
   ]
  },
  {
   "cell_type": "code",
   "execution_count": 22,
   "id": "16aead86",
   "metadata": {},
   "outputs": [
    {
     "data": {
      "text/plain": [
       "['beta', 'exponential', 'normal_p', 'normal_l', 'bimocal', 'nomal_big']"
      ]
     },
     "execution_count": 22,
     "metadata": {},
     "output_type": "execute_result"
    }
   ],
   "source": [
    "col_names = df.columns.tolist()\n",
    "col_names"
   ]
  },
  {
   "cell_type": "code",
   "execution_count": 23,
   "id": "06bf65f0",
   "metadata": {},
   "outputs": [],
   "source": [
    "df_s = pd.DataFrame(df_s, columns=col_names)"
   ]
  },
  {
   "cell_type": "code",
   "execution_count": 24,
   "id": "b80d49f8",
   "metadata": {},
   "outputs": [
    {
     "data": {
      "text/html": [
       "<div>\n",
       "<style scoped>\n",
       "    .dataframe tbody tr th:only-of-type {\n",
       "        vertical-align: middle;\n",
       "    }\n",
       "\n",
       "    .dataframe tbody tr th {\n",
       "        vertical-align: top;\n",
       "    }\n",
       "\n",
       "    .dataframe thead th {\n",
       "        text-align: right;\n",
       "    }\n",
       "</style>\n",
       "<table border=\"1\" class=\"dataframe\">\n",
       "  <thead>\n",
       "    <tr style=\"text-align: right;\">\n",
       "      <th></th>\n",
       "      <th>beta</th>\n",
       "      <th>exponential</th>\n",
       "      <th>normal_p</th>\n",
       "      <th>normal_l</th>\n",
       "      <th>bimocal</th>\n",
       "      <th>nomal_big</th>\n",
       "    </tr>\n",
       "  </thead>\n",
       "  <tbody>\n",
       "    <tr>\n",
       "      <th>0</th>\n",
       "      <td>0.904046</td>\n",
       "      <td>0.046985</td>\n",
       "      <td>0.534455</td>\n",
       "      <td>0.380182</td>\n",
       "      <td>0.881766</td>\n",
       "      <td>0.460825</td>\n",
       "    </tr>\n",
       "    <tr>\n",
       "      <th>1</th>\n",
       "      <td>0.850229</td>\n",
       "      <td>0.046846</td>\n",
       "      <td>0.718994</td>\n",
       "      <td>0.350940</td>\n",
       "      <td>0.909382</td>\n",
       "      <td>0.763827</td>\n",
       "    </tr>\n",
       "    <tr>\n",
       "      <th>2</th>\n",
       "      <td>0.930331</td>\n",
       "      <td>0.231099</td>\n",
       "      <td>0.624230</td>\n",
       "      <td>0.856188</td>\n",
       "      <td>0.900438</td>\n",
       "      <td>0.473865</td>\n",
       "    </tr>\n",
       "    <tr>\n",
       "      <th>3</th>\n",
       "      <td>0.972851</td>\n",
       "      <td>0.229175</td>\n",
       "      <td>0.314219</td>\n",
       "      <td>0.285668</td>\n",
       "      <td>0.785905</td>\n",
       "      <td>0.667015</td>\n",
       "    </tr>\n",
       "    <tr>\n",
       "      <th>4</th>\n",
       "      <td>0.681804</td>\n",
       "      <td>0.050598</td>\n",
       "      <td>0.718222</td>\n",
       "      <td>0.420326</td>\n",
       "      <td>0.851022</td>\n",
       "      <td>0.570992</td>\n",
       "    </tr>\n",
       "  </tbody>\n",
       "</table>\n",
       "</div>"
      ],
      "text/plain": [
       "       beta  exponential  normal_p  normal_l   bimocal  nomal_big\n",
       "0  0.904046     0.046985  0.534455  0.380182  0.881766   0.460825\n",
       "1  0.850229     0.046846  0.718994  0.350940  0.909382   0.763827\n",
       "2  0.930331     0.231099  0.624230  0.856188  0.900438   0.473865\n",
       "3  0.972851     0.229175  0.314219  0.285668  0.785905   0.667015\n",
       "4  0.681804     0.050598  0.718222  0.420326  0.851022   0.570992"
      ]
     },
     "execution_count": 24,
     "metadata": {},
     "output_type": "execute_result"
    }
   ],
   "source": [
    "df_s.head()"
   ]
  },
  {
   "cell_type": "code",
   "execution_count": 25,
   "id": "d48d5e6b",
   "metadata": {},
   "outputs": [
    {
     "data": {
      "text/plain": [
       "<AxesSubplot:ylabel='Density'>"
      ]
     },
     "execution_count": 25,
     "metadata": {},
     "output_type": "execute_result"
    },
    {
     "data": {
      "image/png": "[encoded data removed]",
      "text/plain": [
       "<Figure size 432x288 with 1 Axes>"
      ]
     },
     "metadata": {
      "needs_background": "light"
     },
     "output_type": "display_data"
    }
   ],
   "source": [
    "sns.kdeplot(data=df_s)"
   ]
  },
  {
   "cell_type": "code",
   "execution_count": 26,
   "id": "a74b71bd",
   "metadata": {},
   "outputs": [
    {
     "data": {
      "text/plain": [
       "<AxesSubplot:>"
      ]
     },
     "execution_count": 26,
     "metadata": {},
     "output_type": "execute_result"
    },
    {
     "data": {
      "image/png": "[encoded data removed]",
      "text/plain": [
       "<Figure size 432x288 with 1 Axes>"
      ]
     },
     "metadata": {
      "needs_background": "light"
     },
     "output_type": "display_data"
    }
   ],
   "source": [
    "df_s.boxplot()"
   ]
  },
  {
   "cell_type": "code",
   "execution_count": 33,
   "id": "26b4fd7e",
   "metadata": {},
   "outputs": [
    {
     "name": "stdout",
     "output_type": "stream",
     "text": [
      "Min of df_s.beta is: 0.0\n",
      "Max of df_s.beta is 1.0\n"
     ]
    }
   ],
   "source": [
    "print(f\"Min of df_s.beta is: {df_s['beta'].min()}\")\n",
    "print(f\"Max of df_s.beta is {df_s['beta'].max()}\")"
   ]
  },
  {
   "cell_type": "code",
   "execution_count": 35,
   "id": "7ecfac67",
   "metadata": {},
   "outputs": [
    {
     "data": {
      "text/plain": [
       "[11.252704705359015,\n",
       " 0.0035520937109093337,\n",
       " 2.2376836291360602,\n",
       " -16.314854075169336,\n",
       " -29.710496354983963,\n",
       " 966442.1195322935]"
      ]
     },
     "execution_count": 35,
     "metadata": {},
     "output_type": "execute_result"
    }
   ],
   "source": [
    "mins = [df[col].min() for col in col_names]\n",
    "mins"
   ]
  },
  {
   "cell_type": "code",
   "execution_count": 36,
   "id": "b429e0a8",
   "metadata": {},
   "outputs": [
    {
     "data": {
      "text/plain": [
       "[59.97752924376269,\n",
       " 83.74273410224413,\n",
       " 15.554165032168255,\n",
       " 47.99408094884916,\n",
       " 28.98708548674695,\n",
       " 1030193.2096205389]"
      ]
     },
     "execution_count": 36,
     "metadata": {},
     "output_type": "execute_result"
    }
   ],
   "source": [
    "maxs = [df[col].max() for col in col_names]\n",
    "maxs"
   ]
  },
  {
   "cell_type": "code",
   "execution_count": 37,
   "id": "a57f44c5",
   "metadata": {},
   "outputs": [
    {
     "data": {
      "text/plain": [
       "[0.0, 0.0, 0.0, 0.0, 0.0, 0.0]"
      ]
     },
     "execution_count": 37,
     "metadata": {},
     "output_type": "execute_result"
    }
   ],
   "source": [
    "mins_s = [df_s[col].min() for col in col_names]\n",
    "mins_s"
   ]
  },
  {
   "cell_type": "code",
   "execution_count": 38,
   "id": "d99b853c",
   "metadata": {},
   "outputs": [
    {
     "data": {
      "text/plain": [
       "[1.0, 1.0, 1.0, 1.0, 1.0, 1.0]"
      ]
     },
     "execution_count": 38,
     "metadata": {},
     "output_type": "execute_result"
    }
   ],
   "source": [
    "maxs_s = [df_s[col].max() for col in col_names]\n",
    "maxs_s"
   ]
  }
 ],
 "metadata": {
  "kernelspec": {
   "display_name": "Python 3 (ipykernel)",
   "language": "python",
   "name": "python3"
  },
  "language_info": {
   "codemirror_mode": {
    "name": "ipython",
    "version": 3
   },
   "file_extension": ".py",
   "mimetype": "text/x-python",
   "name": "python",
   "nbconvert_exporter": "python",
   "pygments_lexer": "ipython3",
   "version": "3.9.7"
  }
 },
 "nbformat": 4,
 "nbformat_minor": 5
}
