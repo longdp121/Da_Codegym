{
 "cells": [
  {
   "cell_type": "code",
   "execution_count": null,
   "id": "0dbb8ca8",
   "metadata": {},
   "outputs": [],
   "source": [
    "import pandas as pd\n",
    "import numpy as np"
   ]
  },
  {
   "cell_type": "code",
   "execution_count": null,
   "id": "e1c10843",
   "metadata": {},
   "outputs": [],
   "source": [
    "df = pd.read_csv('OnlineRetail.csv', encoding='ISO-8859-1')\n",
    "df.head()"
   ]
  },
  {
   "cell_type": "code",
   "execution_count": null,
   "id": "d5879b9a",
   "metadata": {},
   "outputs": [],
   "source": [
    "df.info()"
   ]
  },
  {
   "cell_type": "markdown",
   "id": "030e068a",
   "metadata": {},
   "source": [
    "- Phát hiện các dòng, cột chứa dữ liệu khuyết thiếu\n",
    "- Có nên xóa hết các dòng chứa dữ liệu khuyết thiếu, giải thích vì sao\n",
    "- Thực hiện xử lý giá trị khuyết thiếu: Thay thế giá trị khuyết thiếu của thuộc tính Description bằng giá trị mặc định “Không biết”\n",
    "- Thực hiện phát hiện giá trị ngoại lai của thuộc tính Quantity và Thuộc tính UnitPrice\n",
    "- Tiến hành lọc riêng bộ dữ liệu chứa giá trị ngoại lai và bộ dữ liệu sạch\n",
    "- Mô tả thông tin của bộ dữ liệu trên và nhận xét"
   ]
  },
  {
   "cell_type": "code",
   "execution_count": null,
   "id": "1272d447",
   "metadata": {},
   "outputs": [],
   "source": [
    "df.isna()\n",
    "df[(df.isna()['Description'] == True) & (df.isna()['CustomerID'] == True)]"
   ]
  },
  {
   "cell_type": "code",
   "execution_count": null,
   "id": "dcf9947f",
   "metadata": {},
   "outputs": [],
   "source": [
    "values = {'Description': 'unknown'}\n",
    "df.fillna(value=values)\n",
    "df.info()"
   ]
  },
  {
   "cell_type": "code",
   "execution_count": null,
   "id": "803b962c",
   "metadata": {},
   "outputs": [],
   "source": [
    "df.head()"
   ]
  },
  {
   "cell_type": "code",
   "execution_count": null,
   "id": "827335e6",
   "metadata": {},
   "outputs": [],
   "source": [
    "#Spot outliner\n",
    "import matplotlib.pyplot as plt\n",
    "\n",
    "fig, ax = plt.subplots(figsize=(16,6))\n",
    "ax.scatter(df['Quantity'], df['UnitPrice'])\n",
    "ax.set_xlabel('Quantity')\n",
    "ax.set_ylabel('UnitPrice')"
   ]
  },
  {
   "cell_type": "code",
   "execution_count": null,
   "id": "0df41d4b",
   "metadata": {},
   "outputs": [],
   "source": [
    "from scipy import stats\n",
    "z = np.abs(stats.zscore(df[['Quantity', 'UnitPrice']]))\n",
    "z\n",
    "threshold = 3\n",
    "df_clean = df[(z < threshold).all(axis=1)]\n",
    "df_clean.head()"
   ]
  },
  {
   "cell_type": "code",
   "execution_count": null,
   "id": "173004b3",
   "metadata": {},
   "outputs": [],
   "source": [
    "df_clean.info()"
   ]
  },
  {
   "cell_type": "code",
   "execution_count": null,
   "id": "10dd7da1",
   "metadata": {},
   "outputs": [],
   "source": [
    "fig, ax = plt.subplots(figsize=(16,8))\n",
    "ax.scatter(df_clean['Quantity'], df_clean['UnitPrice'])\n",
    "ax.set_xlabel('Quantity')\n",
    "ax.set_ylabel('UnitPrice')"
   ]
  }
 ],
 "metadata": {
  "kernelspec": {
   "display_name": "Python 3 (ipykernel)",
   "language": "python",
   "name": "python3"
  },
  "language_info": {
   "codemirror_mode": {
    "name": "ipython",
    "version": 3
   },
   "file_extension": ".py",
   "mimetype": "text/x-python",
   "name": "python",
   "nbconvert_exporter": "python",
   "pygments_lexer": "ipython3",
   "version": "3.9.7"
  }
 },
 "nbformat": 4,
 "nbformat_minor": 5
}
