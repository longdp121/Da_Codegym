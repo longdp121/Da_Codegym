{
 "cells": [
  {
   "cell_type": "code",
   "execution_count": null,
   "id": "8070668c",
   "metadata": {},
   "outputs": [],
   "source": [
    "import pandas as pd\n",
    "import numpy as np"
   ]
  },
  {
   "cell_type": "code",
   "execution_count": null,
   "id": "6d61ea7d",
   "metadata": {},
   "outputs": [],
   "source": [
    "df = pd.read_csv('OnlineRetail_small.csv', encoding='ISO-8859-1')\n",
    "df.head()"
   ]
  },
  {
   "cell_type": "code",
   "execution_count": null,
   "id": "a07bda27",
   "metadata": {},
   "outputs": [],
   "source": [
    "df.info()"
   ]
  },
  {
   "cell_type": "markdown",
   "id": "73629e75",
   "metadata": {},
   "source": [
    "## Tiền xử lý dữ liệu\n",
    "- Kiểm tra, xóa bó, thay thế dữ liệu khiếm khuyết\n",
    "- Phát hiện dữ liệu ngoại lai\n",
    "- Chuẩn hóa dữ liệu"
   ]
  },
  {
   "cell_type": "code",
   "execution_count": null,
   "id": "914ffd59",
   "metadata": {},
   "outputs": [],
   "source": [
    "from utils import *\n",
    "\n",
    "get_random_row(df, size=10)"
   ]
  },
  {
   "cell_type": "code",
   "execution_count": null,
   "id": "922c68ae",
   "metadata": {},
   "outputs": [],
   "source": [
    "#Tìm ra vị trí lỗi và null\n",
    "#Sử dụng hàm isna()\n",
    "df.isna()"
   ]
  },
  {
   "cell_type": "code",
   "execution_count": null,
   "id": "080617fe",
   "metadata": {},
   "outputs": [],
   "source": [
    "df.isna()[(df.isna().CustomerID == True) | (df.isna().Description == True) | (df.isna().Country == True)]"
   ]
  },
  {
   "cell_type": "code",
   "execution_count": null,
   "id": "ce073853",
   "metadata": {},
   "outputs": [],
   "source": [
    "pd.set_option('display.max_rows', 500)\n",
    "df[(df.isna().CustomerID == True) | (df.isna().Description == True) | (df.isna().Country == True)]"
   ]
  },
  {
   "cell_type": "code",
   "execution_count": null,
   "id": "dccb14ae",
   "metadata": {},
   "outputs": [],
   "source": [
    "#Sử dụng dropna để xóa các dòng có cell bị rỗng\n",
    "df.dropna(axis=0, inplace=True)\n",
    "df"
   ]
  },
  {
   "cell_type": "code",
   "execution_count": null,
   "id": "fa84bd2d",
   "metadata": {},
   "outputs": [],
   "source": [
    "df.info()"
   ]
  },
  {
   "cell_type": "code",
   "execution_count": null,
   "id": "85d32e34",
   "metadata": {},
   "outputs": [],
   "source": [
    "df['Total'] = df['Quantity'].astype('int64') * df['UnitPrice']\n",
    "\n",
    "df"
   ]
  },
  {
   "cell_type": "code",
   "execution_count": null,
   "id": "495ef5b6",
   "metadata": {},
   "outputs": [],
   "source": [
    "df4 = pd.read"
   ]
  }
 ],
 "metadata": {
  "kernelspec": {
   "display_name": "Python 3 (ipykernel)",
   "language": "python",
   "name": "python3"
  },
  "language_info": {
   "codemirror_mode": {
    "name": "ipython",
    "version": 3
   },
   "file_extension": ".py",
   "mimetype": "text/x-python",
   "name": "python",
   "nbconvert_exporter": "python",
   "pygments_lexer": "ipython3",
   "version": "3.9.7"
  }
 },
 "nbformat": 4,
 "nbformat_minor": 5
}
