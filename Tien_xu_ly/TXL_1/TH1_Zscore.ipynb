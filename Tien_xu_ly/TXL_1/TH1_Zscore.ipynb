{
 "cells": [
  {
   "cell_type": "code",
   "execution_count": 1,
   "id": "220666fc",
   "metadata": {},
   "outputs": [],
   "source": [
    "import pandas as pd\n",
    "import numpy as np\n",
    "import matplotlib.pyplot as plt\n",
    "import seaborn as sns\n",
    "from sklearn.preprocessing import StandardScaler"
   ]
  },
  {
   "cell_type": "code",
   "execution_count": 2,
   "id": "08b4174b",
   "metadata": {},
   "outputs": [],
   "source": [
    "#Creat smaple data\n",
    "\n",
    "data = {\n",
    "    'beta': np.random.beta(5, 1, 1000) * 60,\n",
    "    'exponential': np.random.exponential(10, 1000),\n",
    "    'normal_p': np.random.normal(10, 2, 1000),\n",
    "    'normal_l': np.random.normal(10, 10, 1000)\n",
    "}\n",
    "df = pd.DataFrame(data)"
   ]
  },
  {
   "cell_type": "code",
   "execution_count": 3,
   "id": "2a2a4aaa",
   "metadata": {},
   "outputs": [],
   "source": [
    "first_half = np.random.normal(20, 3, 500)\n",
    "second_half = np.random.normal(-20, 3, 500)\n",
    "bimodal = np.concatenate([first_half, second_half])\n",
    "# first_half\n",
    "# second_half\n",
    "# bimodal"
   ]
  },
  {
   "cell_type": "code",
   "execution_count": 4,
   "id": "80c6ae4a",
   "metadata": {},
   "outputs": [],
   "source": [
    "df['bimodal'] = bimodal"
   ]
  },
  {
   "cell_type": "code",
   "execution_count": 5,
   "id": "786c6017",
   "metadata": {},
   "outputs": [
    {
     "data": {
      "text/html": [
       "<div>\n",
       "<style scoped>\n",
       "    .dataframe tbody tr th:only-of-type {\n",
       "        vertical-align: middle;\n",
       "    }\n",
       "\n",
       "    .dataframe tbody tr th {\n",
       "        vertical-align: top;\n",
       "    }\n",
       "\n",
       "    .dataframe thead th {\n",
       "        text-align: right;\n",
       "    }\n",
       "</style>\n",
       "<table border=\"1\" class=\"dataframe\">\n",
       "  <thead>\n",
       "    <tr style=\"text-align: right;\">\n",
       "      <th></th>\n",
       "      <th>beta</th>\n",
       "      <th>exponential</th>\n",
       "      <th>normal_p</th>\n",
       "      <th>normal_l</th>\n",
       "      <th>bimodal</th>\n",
       "    </tr>\n",
       "  </thead>\n",
       "  <tbody>\n",
       "    <tr>\n",
       "      <th>0</th>\n",
       "      <td>56.719562</td>\n",
       "      <td>16.233965</td>\n",
       "      <td>12.504841</td>\n",
       "      <td>8.378674</td>\n",
       "      <td>19.438649</td>\n",
       "    </tr>\n",
       "    <tr>\n",
       "      <th>1</th>\n",
       "      <td>57.261506</td>\n",
       "      <td>29.072103</td>\n",
       "      <td>9.094623</td>\n",
       "      <td>6.961800</td>\n",
       "      <td>17.359616</td>\n",
       "    </tr>\n",
       "    <tr>\n",
       "      <th>2</th>\n",
       "      <td>50.859720</td>\n",
       "      <td>6.595824</td>\n",
       "      <td>9.949544</td>\n",
       "      <td>17.422032</td>\n",
       "      <td>18.777100</td>\n",
       "    </tr>\n",
       "    <tr>\n",
       "      <th>3</th>\n",
       "      <td>57.913497</td>\n",
       "      <td>2.762088</td>\n",
       "      <td>7.890541</td>\n",
       "      <td>1.211502</td>\n",
       "      <td>19.296591</td>\n",
       "    </tr>\n",
       "    <tr>\n",
       "      <th>4</th>\n",
       "      <td>55.374773</td>\n",
       "      <td>36.977318</td>\n",
       "      <td>12.699094</td>\n",
       "      <td>15.759204</td>\n",
       "      <td>22.431308</td>\n",
       "    </tr>\n",
       "    <tr>\n",
       "      <th>...</th>\n",
       "      <td>...</td>\n",
       "      <td>...</td>\n",
       "      <td>...</td>\n",
       "      <td>...</td>\n",
       "      <td>...</td>\n",
       "    </tr>\n",
       "    <tr>\n",
       "      <th>995</th>\n",
       "      <td>57.199534</td>\n",
       "      <td>41.758695</td>\n",
       "      <td>9.303324</td>\n",
       "      <td>-1.054569</td>\n",
       "      <td>-16.437265</td>\n",
       "    </tr>\n",
       "    <tr>\n",
       "      <th>996</th>\n",
       "      <td>42.287154</td>\n",
       "      <td>10.460304</td>\n",
       "      <td>8.009687</td>\n",
       "      <td>-10.519929</td>\n",
       "      <td>-18.236653</td>\n",
       "    </tr>\n",
       "    <tr>\n",
       "      <th>997</th>\n",
       "      <td>43.578795</td>\n",
       "      <td>5.869723</td>\n",
       "      <td>10.253868</td>\n",
       "      <td>18.349916</td>\n",
       "      <td>-16.745320</td>\n",
       "    </tr>\n",
       "    <tr>\n",
       "      <th>998</th>\n",
       "      <td>51.562759</td>\n",
       "      <td>14.895485</td>\n",
       "      <td>6.508974</td>\n",
       "      <td>8.664396</td>\n",
       "      <td>-18.362154</td>\n",
       "    </tr>\n",
       "    <tr>\n",
       "      <th>999</th>\n",
       "      <td>44.743908</td>\n",
       "      <td>12.177145</td>\n",
       "      <td>12.613301</td>\n",
       "      <td>10.961025</td>\n",
       "      <td>-21.027977</td>\n",
       "    </tr>\n",
       "  </tbody>\n",
       "</table>\n",
       "<p>1000 rows × 5 columns</p>\n",
       "</div>"
      ],
      "text/plain": [
       "          beta  exponential   normal_p   normal_l    bimodal\n",
       "0    56.719562    16.233965  12.504841   8.378674  19.438649\n",
       "1    57.261506    29.072103   9.094623   6.961800  17.359616\n",
       "2    50.859720     6.595824   9.949544  17.422032  18.777100\n",
       "3    57.913497     2.762088   7.890541   1.211502  19.296591\n",
       "4    55.374773    36.977318  12.699094  15.759204  22.431308\n",
       "..         ...          ...        ...        ...        ...\n",
       "995  57.199534    41.758695   9.303324  -1.054569 -16.437265\n",
       "996  42.287154    10.460304   8.009687 -10.519929 -18.236653\n",
       "997  43.578795     5.869723  10.253868  18.349916 -16.745320\n",
       "998  51.562759    14.895485   6.508974   8.664396 -18.362154\n",
       "999  44.743908    12.177145  12.613301  10.961025 -21.027977\n",
       "\n",
       "[1000 rows x 5 columns]"
      ]
     },
     "execution_count": 5,
     "metadata": {},
     "output_type": "execute_result"
    }
   ],
   "source": [
    "df"
   ]
  },
  {
   "cell_type": "code",
   "execution_count": 6,
   "id": "5557896f",
   "metadata": {},
   "outputs": [
    {
     "data": {
      "image/png": "[encoded data removed]",
      "text/plain": [
       "<Figure size 432x288 with 1 Axes>"
      ]
     },
     "metadata": {
      "needs_background": "light"
     },
     "output_type": "display_data"
    }
   ],
   "source": [
    "#Vizualization data\n",
    "sns.kdeplot(data=df);"
   ]
  },
  {
   "cell_type": "code",
   "execution_count": 7,
   "id": "cb6951e7",
   "metadata": {},
   "outputs": [
    {
     "data": {
      "text/html": [
       "<div>\n",
       "<style scoped>\n",
       "    .dataframe tbody tr th:only-of-type {\n",
       "        vertical-align: middle;\n",
       "    }\n",
       "\n",
       "    .dataframe tbody tr th {\n",
       "        vertical-align: top;\n",
       "    }\n",
       "\n",
       "    .dataframe thead th {\n",
       "        text-align: right;\n",
       "    }\n",
       "</style>\n",
       "<table border=\"1\" class=\"dataframe\">\n",
       "  <thead>\n",
       "    <tr style=\"text-align: right;\">\n",
       "      <th></th>\n",
       "      <th>beta</th>\n",
       "      <th>exponential</th>\n",
       "      <th>normal_p</th>\n",
       "      <th>normal_l</th>\n",
       "      <th>bimodal</th>\n",
       "    </tr>\n",
       "  </thead>\n",
       "  <tbody>\n",
       "    <tr>\n",
       "      <th>count</th>\n",
       "      <td>1000.000000</td>\n",
       "      <td>1000.000000</td>\n",
       "      <td>1000.000000</td>\n",
       "      <td>1000.000000</td>\n",
       "      <td>1000.000000</td>\n",
       "    </tr>\n",
       "    <tr>\n",
       "      <th>mean</th>\n",
       "      <td>50.357511</td>\n",
       "      <td>9.601516</td>\n",
       "      <td>9.998506</td>\n",
       "      <td>10.346367</td>\n",
       "      <td>-0.038088</td>\n",
       "    </tr>\n",
       "    <tr>\n",
       "      <th>std</th>\n",
       "      <td>8.335134</td>\n",
       "      <td>9.161868</td>\n",
       "      <td>1.956151</td>\n",
       "      <td>9.795307</td>\n",
       "      <td>20.245683</td>\n",
       "    </tr>\n",
       "    <tr>\n",
       "      <th>min</th>\n",
       "      <td>11.971139</td>\n",
       "      <td>0.021547</td>\n",
       "      <td>4.099579</td>\n",
       "      <td>-23.049917</td>\n",
       "      <td>-30.780421</td>\n",
       "    </tr>\n",
       "    <tr>\n",
       "      <th>25%</th>\n",
       "      <td>46.019678</td>\n",
       "      <td>3.161400</td>\n",
       "      <td>8.641616</td>\n",
       "      <td>3.790401</td>\n",
       "      <td>-19.897422</td>\n",
       "    </tr>\n",
       "    <tr>\n",
       "      <th>50%</th>\n",
       "      <td>52.748535</td>\n",
       "      <td>6.703457</td>\n",
       "      <td>9.962449</td>\n",
       "      <td>10.563957</td>\n",
       "      <td>0.488847</td>\n",
       "    </tr>\n",
       "    <tr>\n",
       "      <th>75%</th>\n",
       "      <td>56.855703</td>\n",
       "      <td>12.763205</td>\n",
       "      <td>11.290462</td>\n",
       "      <td>17.160730</td>\n",
       "      <td>20.020821</td>\n",
       "    </tr>\n",
       "    <tr>\n",
       "      <th>max</th>\n",
       "      <td>59.998358</td>\n",
       "      <td>54.365188</td>\n",
       "      <td>17.001127</td>\n",
       "      <td>46.806280</td>\n",
       "      <td>28.609877</td>\n",
       "    </tr>\n",
       "  </tbody>\n",
       "</table>\n",
       "</div>"
      ],
      "text/plain": [
       "              beta  exponential     normal_p     normal_l      bimodal\n",
       "count  1000.000000  1000.000000  1000.000000  1000.000000  1000.000000\n",
       "mean     50.357511     9.601516     9.998506    10.346367    -0.038088\n",
       "std       8.335134     9.161868     1.956151     9.795307    20.245683\n",
       "min      11.971139     0.021547     4.099579   -23.049917   -30.780421\n",
       "25%      46.019678     3.161400     8.641616     3.790401   -19.897422\n",
       "50%      52.748535     6.703457     9.962449    10.563957     0.488847\n",
       "75%      56.855703    12.763205    11.290462    17.160730    20.020821\n",
       "max      59.998358    54.365188    17.001127    46.806280    28.609877"
      ]
     },
     "execution_count": 7,
     "metadata": {},
     "output_type": "execute_result"
    }
   ],
   "source": [
    "#Data information\n",
    "df.describe()"
   ]
  },
  {
   "cell_type": "code",
   "execution_count": 8,
   "id": "33b6c2be",
   "metadata": {},
   "outputs": [],
   "source": [
    "#Add random super big data\n",
    "normal_big = np.random.normal(100000, 100000, (1000, 1))\n",
    "df['normal_big'] = normal_big"
   ]
  },
  {
   "cell_type": "code",
   "execution_count": 9,
   "id": "ac890978",
   "metadata": {},
   "outputs": [
    {
     "data": {
      "text/html": [
       "<div>\n",
       "<style scoped>\n",
       "    .dataframe tbody tr th:only-of-type {\n",
       "        vertical-align: middle;\n",
       "    }\n",
       "\n",
       "    .dataframe tbody tr th {\n",
       "        vertical-align: top;\n",
       "    }\n",
       "\n",
       "    .dataframe thead th {\n",
       "        text-align: right;\n",
       "    }\n",
       "</style>\n",
       "<table border=\"1\" class=\"dataframe\">\n",
       "  <thead>\n",
       "    <tr style=\"text-align: right;\">\n",
       "      <th></th>\n",
       "      <th>beta</th>\n",
       "      <th>exponential</th>\n",
       "      <th>normal_p</th>\n",
       "      <th>normal_l</th>\n",
       "      <th>bimodal</th>\n",
       "      <th>normal_big</th>\n",
       "    </tr>\n",
       "  </thead>\n",
       "  <tbody>\n",
       "    <tr>\n",
       "      <th>0</th>\n",
       "      <td>56.719562</td>\n",
       "      <td>16.233965</td>\n",
       "      <td>12.504841</td>\n",
       "      <td>8.378674</td>\n",
       "      <td>19.438649</td>\n",
       "      <td>128637.808809</td>\n",
       "    </tr>\n",
       "    <tr>\n",
       "      <th>1</th>\n",
       "      <td>57.261506</td>\n",
       "      <td>29.072103</td>\n",
       "      <td>9.094623</td>\n",
       "      <td>6.961800</td>\n",
       "      <td>17.359616</td>\n",
       "      <td>-95277.577532</td>\n",
       "    </tr>\n",
       "    <tr>\n",
       "      <th>2</th>\n",
       "      <td>50.859720</td>\n",
       "      <td>6.595824</td>\n",
       "      <td>9.949544</td>\n",
       "      <td>17.422032</td>\n",
       "      <td>18.777100</td>\n",
       "      <td>119147.145415</td>\n",
       "    </tr>\n",
       "    <tr>\n",
       "      <th>3</th>\n",
       "      <td>57.913497</td>\n",
       "      <td>2.762088</td>\n",
       "      <td>7.890541</td>\n",
       "      <td>1.211502</td>\n",
       "      <td>19.296591</td>\n",
       "      <td>130583.808371</td>\n",
       "    </tr>\n",
       "    <tr>\n",
       "      <th>4</th>\n",
       "      <td>55.374773</td>\n",
       "      <td>36.977318</td>\n",
       "      <td>12.699094</td>\n",
       "      <td>15.759204</td>\n",
       "      <td>22.431308</td>\n",
       "      <td>178514.445047</td>\n",
       "    </tr>\n",
       "  </tbody>\n",
       "</table>\n",
       "</div>"
      ],
      "text/plain": [
       "        beta  exponential   normal_p   normal_l    bimodal     normal_big\n",
       "0  56.719562    16.233965  12.504841   8.378674  19.438649  128637.808809\n",
       "1  57.261506    29.072103   9.094623   6.961800  17.359616  -95277.577532\n",
       "2  50.859720     6.595824   9.949544  17.422032  18.777100  119147.145415\n",
       "3  57.913497     2.762088   7.890541   1.211502  19.296591  130583.808371\n",
       "4  55.374773    36.977318  12.699094  15.759204  22.431308  178514.445047"
      ]
     },
     "execution_count": 9,
     "metadata": {},
     "output_type": "execute_result"
    }
   ],
   "source": [
    "df.head()"
   ]
  },
  {
   "cell_type": "code",
   "execution_count": 10,
   "id": "4dccec3f",
   "metadata": {},
   "outputs": [
    {
     "data": {
      "text/plain": [
       "<AxesSubplot:ylabel='Density'>"
      ]
     },
     "execution_count": 10,
     "metadata": {},
     "output_type": "execute_result"
    },
    {
     "data": {
      "image/png": "[encoded data removed]",
      "text/plain": [
       "<Figure size 432x288 with 1 Axes>"
      ]
     },
     "metadata": {
      "needs_background": "light"
     },
     "output_type": "display_data"
    }
   ],
   "source": [
    "sns.kdeplot(data=df)"
   ]
  },
  {
   "cell_type": "code",
   "execution_count": 11,
   "id": "4cf5ea56",
   "metadata": {},
   "outputs": [
    {
     "data": {
      "text/plain": [
       "<AxesSubplot:>"
      ]
     },
     "execution_count": 11,
     "metadata": {},
     "output_type": "execute_result"
    },
    {
     "data": {
      "image/png": "[encoded data removed]",
      "text/plain": [
       "<Figure size 432x288 with 1 Axes>"
      ]
     },
     "metadata": {
      "needs_background": "light"
     },
     "output_type": "display_data"
    }
   ],
   "source": [
    "df.boxplot()"
   ]
  },
  {
   "cell_type": "code",
   "execution_count": 12,
   "id": "3f60fe0a",
   "metadata": {},
   "outputs": [
    {
     "name": "stdout",
     "output_type": "stream",
     "text": [
      "<class 'numpy.ndarray'>\n"
     ]
    }
   ],
   "source": [
    "#Stand standardized data\n",
    "s_scaler = StandardScaler()\n",
    "df_s = s_scaler.fit_transform(df)\n",
    "print(type(df_s))"
   ]
  },
  {
   "cell_type": "code",
   "execution_count": 13,
   "id": "fb616b6d",
   "metadata": {},
   "outputs": [
    {
     "data": {
      "text/plain": [
       "array([[ 0.76366307,  0.7242812 ,  1.28189999, -0.20098171,  0.96250061,\n",
       "         0.24884889],\n",
       "       [ 0.82871482,  2.12623999, -0.46230367, -0.34570237,  0.85975903,\n",
       "        -2.0039789 ],\n",
       "       [ 0.06028215, -0.32822953, -0.02504223,  0.72271396,  0.92980822,\n",
       "         0.15336268],\n",
       "       ...,\n",
       "       [-0.81367722, -0.40752172,  0.13060852,  0.81748877, -0.82563733,\n",
       "        -0.7108079 ],\n",
       "       [ 0.14467082,  0.57811557, -1.78476954, -0.17179791, -0.90553797,\n",
       "         0.89637252],\n",
       "       [-0.67382383,  0.2812656 ,  1.3373731 ,  0.06278164, -1.03727753,\n",
       "         0.51889359]])"
      ]
     },
     "execution_count": 13,
     "metadata": {},
     "output_type": "execute_result"
    }
   ],
   "source": [
    "df_s"
   ]
  },
  {
   "cell_type": "code",
   "execution_count": 14,
   "id": "4084e529",
   "metadata": {},
   "outputs": [
    {
     "data": {
      "text/plain": [
       "['beta', 'exponential', 'normal_p', 'normal_l', 'bimodal', 'normal_big']"
      ]
     },
     "execution_count": 14,
     "metadata": {},
     "output_type": "execute_result"
    }
   ],
   "source": [
    "col_names = df.columns.tolist()\n",
    "col_names"
   ]
  },
  {
   "cell_type": "code",
   "execution_count": 15,
   "id": "b67d6a13",
   "metadata": {},
   "outputs": [
    {
     "data": {
      "text/html": [
       "<div>\n",
       "<style scoped>\n",
       "    .dataframe tbody tr th:only-of-type {\n",
       "        vertical-align: middle;\n",
       "    }\n",
       "\n",
       "    .dataframe tbody tr th {\n",
       "        vertical-align: top;\n",
       "    }\n",
       "\n",
       "    .dataframe thead th {\n",
       "        text-align: right;\n",
       "    }\n",
       "</style>\n",
       "<table border=\"1\" class=\"dataframe\">\n",
       "  <thead>\n",
       "    <tr style=\"text-align: right;\">\n",
       "      <th></th>\n",
       "      <th>beta</th>\n",
       "      <th>exponential</th>\n",
       "      <th>normal_p</th>\n",
       "      <th>normal_l</th>\n",
       "      <th>bimodal</th>\n",
       "      <th>normal_big</th>\n",
       "    </tr>\n",
       "  </thead>\n",
       "  <tbody>\n",
       "    <tr>\n",
       "      <th>0</th>\n",
       "      <td>0.763663</td>\n",
       "      <td>0.724281</td>\n",
       "      <td>1.281900</td>\n",
       "      <td>-0.200982</td>\n",
       "      <td>0.962501</td>\n",
       "      <td>0.248849</td>\n",
       "    </tr>\n",
       "    <tr>\n",
       "      <th>1</th>\n",
       "      <td>0.828715</td>\n",
       "      <td>2.126240</td>\n",
       "      <td>-0.462304</td>\n",
       "      <td>-0.345702</td>\n",
       "      <td>0.859759</td>\n",
       "      <td>-2.003979</td>\n",
       "    </tr>\n",
       "    <tr>\n",
       "      <th>2</th>\n",
       "      <td>0.060282</td>\n",
       "      <td>-0.328230</td>\n",
       "      <td>-0.025042</td>\n",
       "      <td>0.722714</td>\n",
       "      <td>0.929808</td>\n",
       "      <td>0.153363</td>\n",
       "    </tr>\n",
       "    <tr>\n",
       "      <th>3</th>\n",
       "      <td>0.906976</td>\n",
       "      <td>-0.746884</td>\n",
       "      <td>-1.078148</td>\n",
       "      <td>-0.933042</td>\n",
       "      <td>0.955480</td>\n",
       "      <td>0.268428</td>\n",
       "    </tr>\n",
       "    <tr>\n",
       "      <th>4</th>\n",
       "      <td>0.602242</td>\n",
       "      <td>2.989511</td>\n",
       "      <td>1.381253</td>\n",
       "      <td>0.552871</td>\n",
       "      <td>1.110392</td>\n",
       "      <td>0.750661</td>\n",
       "    </tr>\n",
       "  </tbody>\n",
       "</table>\n",
       "</div>"
      ],
      "text/plain": [
       "       beta  exponential  normal_p  normal_l   bimodal  normal_big\n",
       "0  0.763663     0.724281  1.281900 -0.200982  0.962501    0.248849\n",
       "1  0.828715     2.126240 -0.462304 -0.345702  0.859759   -2.003979\n",
       "2  0.060282    -0.328230 -0.025042  0.722714  0.929808    0.153363\n",
       "3  0.906976    -0.746884 -1.078148 -0.933042  0.955480    0.268428\n",
       "4  0.602242     2.989511  1.381253  0.552871  1.110392    0.750661"
      ]
     },
     "execution_count": 15,
     "metadata": {},
     "output_type": "execute_result"
    }
   ],
   "source": [
    "df_s = pd.DataFrame(df_s, columns=col_names)\n",
    "df_s.head()"
   ]
  },
  {
   "cell_type": "code",
   "execution_count": 16,
   "id": "83eed883",
   "metadata": {},
   "outputs": [
    {
     "data": {
      "text/plain": [
       "<AxesSubplot:ylabel='Density'>"
      ]
     },
     "execution_count": 16,
     "metadata": {},
     "output_type": "execute_result"
    },
    {
     "data": {
      "image/png": "[encoded data removed]",
      "text/plain": [
       "<Figure size 432x288 with 1 Axes>"
      ]
     },
     "metadata": {
      "needs_background": "light"
     },
     "output_type": "display_data"
    }
   ],
   "source": [
    "#Visualization df_s\n",
    "sns.kdeplot(data=df_s)"
   ]
  },
  {
   "cell_type": "code",
   "execution_count": 17,
   "id": "a9047c4b",
   "metadata": {},
   "outputs": [
    {
     "data": {
      "text/plain": [
       "<AxesSubplot:xlabel='normal_big', ylabel='Density'>"
      ]
     },
     "execution_count": 17,
     "metadata": {},
     "output_type": "execute_result"
    },
    {
     "data": {
      "image/png": "[encoded data removed]",
      "text/plain": [
       "<Figure size 432x288 with 1 Axes>"
      ]
     },
     "metadata": {
      "needs_background": "light"
     },
     "output_type": "display_data"
    }
   ],
   "source": [
    "df_normal_big = df_s['normal_big']\n",
    "sns.kdeplot(data=df_normal_big)"
   ]
  },
  {
   "cell_type": "code",
   "execution_count": 18,
   "id": "5e5a7c6c",
   "metadata": {},
   "outputs": [
    {
     "data": {
      "text/html": [
       "<div>\n",
       "<style scoped>\n",
       "    .dataframe tbody tr th:only-of-type {\n",
       "        vertical-align: middle;\n",
       "    }\n",
       "\n",
       "    .dataframe tbody tr th {\n",
       "        vertical-align: top;\n",
       "    }\n",
       "\n",
       "    .dataframe thead th {\n",
       "        text-align: right;\n",
       "    }\n",
       "</style>\n",
       "<table border=\"1\" class=\"dataframe\">\n",
       "  <thead>\n",
       "    <tr style=\"text-align: right;\">\n",
       "      <th></th>\n",
       "      <th>beta</th>\n",
       "      <th>exponential</th>\n",
       "      <th>normal_p</th>\n",
       "      <th>normal_l</th>\n",
       "      <th>bimodal</th>\n",
       "      <th>normal_big</th>\n",
       "    </tr>\n",
       "  </thead>\n",
       "  <tbody>\n",
       "    <tr>\n",
       "      <th>count</th>\n",
       "      <td>1.000000e+03</td>\n",
       "      <td>1.000000e+03</td>\n",
       "      <td>1.000000e+03</td>\n",
       "      <td>1.000000e+03</td>\n",
       "      <td>1.000000e+03</td>\n",
       "      <td>1.000000e+03</td>\n",
       "    </tr>\n",
       "    <tr>\n",
       "      <th>mean</th>\n",
       "      <td>7.777112e-16</td>\n",
       "      <td>-1.166289e-16</td>\n",
       "      <td>-2.000622e-16</td>\n",
       "      <td>8.260059e-17</td>\n",
       "      <td>1.985079e-16</td>\n",
       "      <td>-1.394440e-16</td>\n",
       "    </tr>\n",
       "    <tr>\n",
       "      <th>std</th>\n",
       "      <td>1.000500e+00</td>\n",
       "      <td>1.000500e+00</td>\n",
       "      <td>1.000500e+00</td>\n",
       "      <td>1.000500e+00</td>\n",
       "      <td>1.000500e+00</td>\n",
       "      <td>1.000500e+00</td>\n",
       "    </tr>\n",
       "    <tr>\n",
       "      <th>min</th>\n",
       "      <td>-4.607674e+00</td>\n",
       "      <td>-1.046158e+00</td>\n",
       "      <td>-3.017088e+00</td>\n",
       "      <td>-3.411123e+00</td>\n",
       "      <td>-1.519223e+00</td>\n",
       "      <td>-3.302555e+00</td>\n",
       "    </tr>\n",
       "    <tr>\n",
       "      <th>25%</th>\n",
       "      <td>-5.206880e-01</td>\n",
       "      <td>-7.032778e-01</td>\n",
       "      <td>-6.940000e-01</td>\n",
       "      <td>-6.696316e-01</td>\n",
       "      <td>-9.814078e-01</td>\n",
       "      <td>-7.260911e-01</td>\n",
       "    </tr>\n",
       "    <tr>\n",
       "      <th>50%</th>\n",
       "      <td>2.870044e-01</td>\n",
       "      <td>-3.164757e-01</td>\n",
       "      <td>-1.844174e-02</td>\n",
       "      <td>2.222478e-02</td>\n",
       "      <td>2.604004e-02</td>\n",
       "      <td>5.906530e-03</td>\n",
       "    </tr>\n",
       "    <tr>\n",
       "      <th>75%</th>\n",
       "      <td>7.800047e-01</td>\n",
       "      <td>3.452649e-01</td>\n",
       "      <td>6.607888e-01</td>\n",
       "      <td>6.960244e-01</td>\n",
       "      <td>9.912704e-01</td>\n",
       "      <td>6.390960e-01</td>\n",
       "    </tr>\n",
       "    <tr>\n",
       "      <th>max</th>\n",
       "      <td>1.157230e+00</td>\n",
       "      <td>4.888312e+00</td>\n",
       "      <td>3.581588e+00</td>\n",
       "      <td>3.724044e+00</td>\n",
       "      <td>1.415724e+00</td>\n",
       "      <td>2.857185e+00</td>\n",
       "    </tr>\n",
       "  </tbody>\n",
       "</table>\n",
       "</div>"
      ],
      "text/plain": [
       "               beta   exponential      normal_p      normal_l       bimodal  \\\n",
       "count  1.000000e+03  1.000000e+03  1.000000e+03  1.000000e+03  1.000000e+03   \n",
       "mean   7.777112e-16 -1.166289e-16 -2.000622e-16  8.260059e-17  1.985079e-16   \n",
       "std    1.000500e+00  1.000500e+00  1.000500e+00  1.000500e+00  1.000500e+00   \n",
       "min   -4.607674e+00 -1.046158e+00 -3.017088e+00 -3.411123e+00 -1.519223e+00   \n",
       "25%   -5.206880e-01 -7.032778e-01 -6.940000e-01 -6.696316e-01 -9.814078e-01   \n",
       "50%    2.870044e-01 -3.164757e-01 -1.844174e-02  2.222478e-02  2.604004e-02   \n",
       "75%    7.800047e-01  3.452649e-01  6.607888e-01  6.960244e-01  9.912704e-01   \n",
       "max    1.157230e+00  4.888312e+00  3.581588e+00  3.724044e+00  1.415724e+00   \n",
       "\n",
       "         normal_big  \n",
       "count  1.000000e+03  \n",
       "mean  -1.394440e-16  \n",
       "std    1.000500e+00  \n",
       "min   -3.302555e+00  \n",
       "25%   -7.260911e-01  \n",
       "50%    5.906530e-03  \n",
       "75%    6.390960e-01  \n",
       "max    2.857185e+00  "
      ]
     },
     "execution_count": 18,
     "metadata": {},
     "output_type": "execute_result"
    }
   ],
   "source": [
    "df_s.describe()"
   ]
  },
  {
   "cell_type": "code",
   "execution_count": 19,
   "id": "238571cd",
   "metadata": {},
   "outputs": [
    {
     "data": {
      "text/plain": [
       "<AxesSubplot:>"
      ]
     },
     "execution_count": 19,
     "metadata": {},
     "output_type": "execute_result"
    },
    {
     "data": {
      "image/png": "[encoded data removed]",
      "text/plain": [
       "<Figure size 432x288 with 1 Axes>"
      ]
     },
     "metadata": {
      "needs_background": "light"
     },
     "output_type": "display_data"
    }
   ],
   "source": [
    "df_s.boxplot()"
   ]
  }
 ],
 "metadata": {
  "kernelspec": {
   "display_name": "Python 3 (ipykernel)",
   "language": "python",
   "name": "python3"
  },
  "language_info": {
   "codemirror_mode": {
    "name": "ipython",
    "version": 3
   },
   "file_extension": ".py",
   "mimetype": "text/x-python",
   "name": "python",
   "nbconvert_exporter": "python",
   "pygments_lexer": "ipython3",
   "version": "3.9.7"
  }
 },
 "nbformat": 4,
 "nbformat_minor": 5
}
