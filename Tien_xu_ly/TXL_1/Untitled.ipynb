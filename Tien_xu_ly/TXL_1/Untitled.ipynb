{
 "cells": [
  {
   "cell_type": "code",
   "execution_count": 1,
   "id": "a1fd0841",
   "metadata": {},
   "outputs": [],
   "source": [
    "import pandas as pd\n",
    "import numpy as np"
   ]
  },
  {
   "cell_type": "code",
   "execution_count": 2,
   "id": "962f6ecc",
   "metadata": {},
   "outputs": [
    {
     "name": "stderr",
     "output_type": "stream",
     "text": [
      "/home/longdp/anaconda3/lib/python3.9/site-packages/openpyxl/worksheet/_reader.py:312: UserWarning: Unknown extension is not supported and will be removed\n",
      "  warn(msg)\n"
     ]
    },
    {
     "data": {
      "text/html": [
       "<div>\n",
       "<style scoped>\n",
       "    .dataframe tbody tr th:only-of-type {\n",
       "        vertical-align: middle;\n",
       "    }\n",
       "\n",
       "    .dataframe tbody tr th {\n",
       "        vertical-align: top;\n",
       "    }\n",
       "\n",
       "    .dataframe thead th {\n",
       "        text-align: right;\n",
       "    }\n",
       "</style>\n",
       "<table border=\"1\" class=\"dataframe\">\n",
       "  <thead>\n",
       "    <tr style=\"text-align: right;\">\n",
       "      <th></th>\n",
       "      <th>title</th>\n",
       "      <th>address</th>\n",
       "      <th>area</th>\n",
       "      <th>price</th>\n",
       "      <th>postDate</th>\n",
       "      <th>land_certificate</th>\n",
       "      <th>house_direction</th>\n",
       "      <th>balcony_direction</th>\n",
       "      <th>toilet</th>\n",
       "      <th>bedroom</th>\n",
       "      <th>floor</th>\n",
       "      <th>type_of_land</th>\n",
       "      <th>street_name</th>\n",
       "      <th>ward_name</th>\n",
       "      <th>district_name</th>\n",
       "      <th>city_name</th>\n",
       "      <th>lat</th>\n",
       "      <th>long</th>\n",
       "    </tr>\n",
       "  </thead>\n",
       "  <tbody>\n",
       "    <tr>\n",
       "      <th>0</th>\n",
       "      <td>Bán nhà Trần Quang Diệu mới coong đẹp 50m2x6 t...</td>\n",
       "      <td>Đường Trần Quang Diệu, Phường Trung Liệt, Đốn...</td>\n",
       "      <td>50.0</td>\n",
       "      <td>14700.0</td>\n",
       "      <td>2021-01-01</td>\n",
       "      <td>Sổ đỏ</td>\n",
       "      <td>NaN</td>\n",
       "      <td>NaN</td>\n",
       "      <td>4.0</td>\n",
       "      <td>6.0</td>\n",
       "      <td>6.0</td>\n",
       "      <td>Bán nhà riêng\\n</td>\n",
       "      <td>Đường Trần Quang Diệu</td>\n",
       "      <td>Phường Trung Liệt</td>\n",
       "      <td>Quận Đống Đa</td>\n",
       "      <td>Thành phố Hà Nội</td>\n",
       "      <td>21.015698</td>\n",
       "      <td>105.824583</td>\n",
       "    </tr>\n",
       "    <tr>\n",
       "      <th>1</th>\n",
       "      <td>Bán nhà mặt phố Tây Sơn - 6 tầng. Kinh doanh t...</td>\n",
       "      <td>Đường Tây Sơn, Phường Trung Liệt, Đống Đa, Hà...</td>\n",
       "      <td>35.0</td>\n",
       "      <td>12500.0</td>\n",
       "      <td>2021-02-19</td>\n",
       "      <td>Sổ đỏ</td>\n",
       "      <td>NaN</td>\n",
       "      <td>NaN</td>\n",
       "      <td>NaN</td>\n",
       "      <td>NaN</td>\n",
       "      <td>6.0</td>\n",
       "      <td>Bán nhà mặt phố\\n</td>\n",
       "      <td>Phố Trung Liệt</td>\n",
       "      <td>Phường Trung Liệt</td>\n",
       "      <td>Quận Đống Đa</td>\n",
       "      <td>Thành phố Hà Nội</td>\n",
       "      <td>21.008930</td>\n",
       "      <td>105.824105</td>\n",
       "    </tr>\n",
       "    <tr>\n",
       "      <th>2</th>\n",
       "      <td>Bán nhà số 36 Đoàn Kết - phố Khâm Thiên - Đống...</td>\n",
       "      <td>Số 36 Đoàn Kết, Phố Khâm Thiên, Phường Thổ Qu...</td>\n",
       "      <td>57.0</td>\n",
       "      <td>4200.0</td>\n",
       "      <td>2021-03-10</td>\n",
       "      <td>Sổ đỏ</td>\n",
       "      <td>Nam</td>\n",
       "      <td>Nam</td>\n",
       "      <td>3.0</td>\n",
       "      <td>8.0</td>\n",
       "      <td>4.0</td>\n",
       "      <td>Bán nhà riêng\\n</td>\n",
       "      <td>Phố Khâm Thiên</td>\n",
       "      <td>Phường Khâm Thiên</td>\n",
       "      <td>Quận Đống Đa</td>\n",
       "      <td>Thành phố Hà Nội</td>\n",
       "      <td>21.025208</td>\n",
       "      <td>105.833111</td>\n",
       "    </tr>\n",
       "    <tr>\n",
       "      <th>3</th>\n",
       "      <td>Bán nhà 6 tầng mới kinh doanh mặt ngõ 1194 Đườ...</td>\n",
       "      <td>Ngõ 1194, Đường Láng, Phường Láng Thượng, Đố...</td>\n",
       "      <td>62.0</td>\n",
       "      <td>11000.0</td>\n",
       "      <td>2021-03-13</td>\n",
       "      <td>Sổ đỏ</td>\n",
       "      <td>Đông</td>\n",
       "      <td>Đông-Nam</td>\n",
       "      <td>6.0</td>\n",
       "      <td>5.0</td>\n",
       "      <td>6.0</td>\n",
       "      <td>Bán nhà riêng\\n</td>\n",
       "      <td>Đường Láng Thượng</td>\n",
       "      <td>Phường Láng Thượng</td>\n",
       "      <td>Quận Đống Đa</td>\n",
       "      <td>Thành phố Hà Nội</td>\n",
       "      <td>21.025379</td>\n",
       "      <td>105.801011</td>\n",
       "    </tr>\n",
       "    <tr>\n",
       "      <th>4</th>\n",
       "      <td>Bán nhà mặt phố Thái Hà 70m2, 5 tầng, 4.5m mặt...</td>\n",
       "      <td>Phố Thái Hà, Phường Trung Liệt, Đống Đa, Hà Nội</td>\n",
       "      <td>70.0</td>\n",
       "      <td>36000.0</td>\n",
       "      <td>2021-03-13</td>\n",
       "      <td>Sổ đỏ</td>\n",
       "      <td>NaN</td>\n",
       "      <td>NaN</td>\n",
       "      <td>NaN</td>\n",
       "      <td>6.0</td>\n",
       "      <td>5.0</td>\n",
       "      <td>Bán nhà mặt phố\\n</td>\n",
       "      <td>Phố Trung Liệt</td>\n",
       "      <td>Phường Trung Liệt</td>\n",
       "      <td>Quận Đống Đa</td>\n",
       "      <td>Thành phố Hà Nội</td>\n",
       "      <td>21.009239</td>\n",
       "      <td>105.824230</td>\n",
       "    </tr>\n",
       "  </tbody>\n",
       "</table>\n",
       "</div>"
      ],
      "text/plain": [
       "                                               title  \\\n",
       "0  Bán nhà Trần Quang Diệu mới coong đẹp 50m2x6 t...   \n",
       "1  Bán nhà mặt phố Tây Sơn - 6 tầng. Kinh doanh t...   \n",
       "2  Bán nhà số 36 Đoàn Kết - phố Khâm Thiên - Đống...   \n",
       "3  Bán nhà 6 tầng mới kinh doanh mặt ngõ 1194 Đườ...   \n",
       "4  Bán nhà mặt phố Thái Hà 70m2, 5 tầng, 4.5m mặt...   \n",
       "\n",
       "                                             address  area    price  \\\n",
       "0  Đường Trần Quang Diệu, Phường Trung Liệt, Đốn...  50.0  14700.0   \n",
       "1  Đường Tây Sơn, Phường Trung Liệt, Đống Đa, Hà...  35.0  12500.0   \n",
       "2  Số 36 Đoàn Kết, Phố Khâm Thiên, Phường Thổ Qu...  57.0   4200.0   \n",
       "3  Ngõ 1194, Đường Láng, Phường Láng Thượng, Đố...  62.0  11000.0   \n",
       "4   Phố Thái Hà, Phường Trung Liệt, Đống Đa, Hà Nội  70.0  36000.0   \n",
       "\n",
       "    postDate land_certificate house_direction balcony_direction  toilet  \\\n",
       "0 2021-01-01            Sổ đỏ             NaN               NaN     4.0   \n",
       "1 2021-02-19            Sổ đỏ             NaN               NaN     NaN   \n",
       "2 2021-03-10            Sổ đỏ             Nam               Nam     3.0   \n",
       "3 2021-03-13            Sổ đỏ            Đông          Đông-Nam     6.0   \n",
       "4 2021-03-13            Sổ đỏ             NaN               NaN     NaN   \n",
       "\n",
       "   bedroom  floor        type_of_land            street_name  \\\n",
       "0      6.0    6.0    Bán nhà riêng\\n   Đường Trần Quang Diệu   \n",
       "1      NaN    6.0  Bán nhà mặt phố\\n          Phố Trung Liệt   \n",
       "2      8.0    4.0    Bán nhà riêng\\n          Phố Khâm Thiên   \n",
       "3      5.0    6.0    Bán nhà riêng\\n       Đường Láng Thượng   \n",
       "4      6.0    5.0  Bán nhà mặt phố\\n          Phố Trung Liệt   \n",
       "\n",
       "            ward_name district_name         city_name        lat        long  \n",
       "0   Phường Trung Liệt  Quận Đống Đa  Thành phố Hà Nội  21.015698  105.824583  \n",
       "1   Phường Trung Liệt  Quận Đống Đa  Thành phố Hà Nội  21.008930  105.824105  \n",
       "2   Phường Khâm Thiên  Quận Đống Đa  Thành phố Hà Nội  21.025208  105.833111  \n",
       "3  Phường Láng Thượng  Quận Đống Đa  Thành phố Hà Nội  21.025379  105.801011  \n",
       "4   Phường Trung Liệt  Quận Đống Đa  Thành phố Hà Nội  21.009239  105.824230  "
      ]
     },
     "execution_count": 2,
     "metadata": {},
     "output_type": "execute_result"
    }
   ],
   "source": [
    "df = pd.read_excel('house_price_dống-da.xlsx')\n",
    "df.head()"
   ]
  },
  {
   "cell_type": "code",
   "execution_count": 3,
   "id": "3e1151ee",
   "metadata": {},
   "outputs": [
    {
     "name": "stdout",
     "output_type": "stream",
     "text": [
      "<class 'pandas.core.frame.DataFrame'>\n",
      "RangeIndex: 1000 entries, 0 to 999\n",
      "Data columns (total 18 columns):\n",
      " #   Column             Non-Null Count  Dtype         \n",
      "---  ------             --------------  -----         \n",
      " 0   title              1000 non-null   object        \n",
      " 1   address            1000 non-null   object        \n",
      " 2   area               994 non-null    float64       \n",
      " 3   price              944 non-null    float64       \n",
      " 4   postDate           1000 non-null   datetime64[ns]\n",
      " 5   land_certificate   693 non-null    object        \n",
      " 6   house_direction    44 non-null     object        \n",
      " 7   balcony_direction  24 non-null     object        \n",
      " 8   toilet             551 non-null    float64       \n",
      " 9   bedroom            635 non-null    float64       \n",
      " 10  floor              376 non-null    float64       \n",
      " 11  type_of_land       1000 non-null   object        \n",
      " 12  street_name        808 non-null    object        \n",
      " 13  ward_name          802 non-null    object        \n",
      " 14  district_name      1000 non-null   object        \n",
      " 15  city_name          1000 non-null   object        \n",
      " 16  lat                1000 non-null   float64       \n",
      " 17  long               1000 non-null   float64       \n",
      "dtypes: datetime64[ns](1), float64(7), object(10)\n",
      "memory usage: 140.8+ KB\n"
     ]
    }
   ],
   "source": [
    "df.info()"
   ]
  },
  {
   "cell_type": "markdown",
   "id": "de0d70b1",
   "metadata": {},
   "source": [
    "- Phát hiện các dòng, cột chứa dữ liệu khuyết thiếu\n",
    "- Xóa bỏ hết tất cả những dòng dữ liệu không có thông tin về giá\n",
    "- Thực hiện xử lý giá trị khuyết thiếu: Thay thế giá trị khuyết thiếu của land_certificate bằng =”không có thông tin”, house_direction, balcony_direction, toilet, bedroom, Floor  bằng giá trị có tần số xuất hiện lớn nhất của các thuộc tính đó,\n",
    "- Lọc thông tin những bất động sản ở trong ngõ thành bộ dữ liệu nhà ngõ\n",
    "- Tính toán giá/m2  ( đơn vị triệu/m2) với loại hình nhà ngõ\n",
    "- Phát hiện giá trị ngoại lai của các thuộc tính: diện tích, giá/m2 bằng phương pháp IQR\n",
    "- Thực hiện loại bỏ các dòng dữ liệu ngoại lai\n",
    "- Chuẩn hóa dữ liệu của tất cả các thuộc tính: price/m2 bằng các phương pháp: min-max scaling, z- score scaling, Robust scaling, và so sánh phân bố của thuộc tính này trước và sau khi chuẩn hóa"
   ]
  },
  {
   "cell_type": "code",
   "execution_count": 4,
   "id": "e7fadd37",
   "metadata": {},
   "outputs": [
    {
     "name": "stdout",
     "output_type": "stream",
     "text": [
      "<class 'pandas.core.frame.DataFrame'>\n",
      "Int64Index: 944 entries, 0 to 999\n",
      "Data columns (total 18 columns):\n",
      " #   Column             Non-Null Count  Dtype         \n",
      "---  ------             --------------  -----         \n",
      " 0   title              944 non-null    object        \n",
      " 1   address            944 non-null    object        \n",
      " 2   area               942 non-null    float64       \n",
      " 3   price              944 non-null    float64       \n",
      " 4   postDate           944 non-null    datetime64[ns]\n",
      " 5   land_certificate   683 non-null    object        \n",
      " 6   house_direction    43 non-null     object        \n",
      " 7   balcony_direction  24 non-null     object        \n",
      " 8   toilet             548 non-null    float64       \n",
      " 9   bedroom            631 non-null    float64       \n",
      " 10  floor              367 non-null    float64       \n",
      " 11  type_of_land       944 non-null    object        \n",
      " 12  street_name        791 non-null    object        \n",
      " 13  ward_name          788 non-null    object        \n",
      " 14  district_name      944 non-null    object        \n",
      " 15  city_name          944 non-null    object        \n",
      " 16  lat                944 non-null    float64       \n",
      " 17  long               944 non-null    float64       \n",
      "dtypes: datetime64[ns](1), float64(7), object(10)\n",
      "memory usage: 140.1+ KB\n"
     ]
    },
    {
     "data": {
      "text/html": [
       "<div>\n",
       "<style scoped>\n",
       "    .dataframe tbody tr th:only-of-type {\n",
       "        vertical-align: middle;\n",
       "    }\n",
       "\n",
       "    .dataframe tbody tr th {\n",
       "        vertical-align: top;\n",
       "    }\n",
       "\n",
       "    .dataframe thead th {\n",
       "        text-align: right;\n",
       "    }\n",
       "</style>\n",
       "<table border=\"1\" class=\"dataframe\">\n",
       "  <thead>\n",
       "    <tr style=\"text-align: right;\">\n",
       "      <th></th>\n",
       "      <th>title</th>\n",
       "      <th>address</th>\n",
       "      <th>area</th>\n",
       "      <th>price</th>\n",
       "      <th>postDate</th>\n",
       "      <th>land_certificate</th>\n",
       "      <th>house_direction</th>\n",
       "      <th>balcony_direction</th>\n",
       "      <th>toilet</th>\n",
       "      <th>bedroom</th>\n",
       "      <th>floor</th>\n",
       "      <th>type_of_land</th>\n",
       "      <th>street_name</th>\n",
       "      <th>ward_name</th>\n",
       "      <th>district_name</th>\n",
       "      <th>city_name</th>\n",
       "      <th>lat</th>\n",
       "      <th>long</th>\n",
       "    </tr>\n",
       "  </thead>\n",
       "  <tbody>\n",
       "  </tbody>\n",
       "</table>\n",
       "</div>"
      ],
      "text/plain": [
       "Empty DataFrame\n",
       "Columns: [title, address, area, price, postDate, land_certificate, house_direction, balcony_direction, toilet, bedroom, floor, type_of_land, street_name, ward_name, district_name, city_name, lat, long]\n",
       "Index: []"
      ]
     },
     "execution_count": 4,
     "metadata": {},
     "output_type": "execute_result"
    }
   ],
   "source": [
    "#Drop every rows with na in price col\n",
    "df.dropna(subset=['price'], inplace=True)\n",
    "df.info()\n",
    "df[df.isna()['price'] == True]"
   ]
  },
  {
   "cell_type": "code",
   "execution_count": 5,
   "id": "36ca253e",
   "metadata": {},
   "outputs": [
    {
     "name": "stdout",
     "output_type": "stream",
     "text": [
      "<class 'pandas.core.frame.DataFrame'>\n",
      "Int64Index: 944 entries, 0 to 999\n",
      "Data columns (total 18 columns):\n",
      " #   Column             Non-Null Count  Dtype         \n",
      "---  ------             --------------  -----         \n",
      " 0   title              944 non-null    object        \n",
      " 1   address            944 non-null    object        \n",
      " 2   area               942 non-null    float64       \n",
      " 3   price              944 non-null    float64       \n",
      " 4   postDate           944 non-null    datetime64[ns]\n",
      " 5   land_certificate   944 non-null    object        \n",
      " 6   house_direction    944 non-null    object        \n",
      " 7   balcony_direction  944 non-null    object        \n",
      " 8   toilet             944 non-null    float64       \n",
      " 9   bedroom            944 non-null    float64       \n",
      " 10  floor              944 non-null    float64       \n",
      " 11  type_of_land       944 non-null    object        \n",
      " 12  street_name        791 non-null    object        \n",
      " 13  ward_name          788 non-null    object        \n",
      " 14  district_name      944 non-null    object        \n",
      " 15  city_name          944 non-null    object        \n",
      " 16  lat                944 non-null    float64       \n",
      " 17  long               944 non-null    float64       \n",
      "dtypes: datetime64[ns](1), float64(7), object(10)\n",
      "memory usage: 140.1+ KB\n"
     ]
    }
   ],
   "source": [
    "#Handle missing data\n",
    "house_direction_mode = df['house_direction'].mode()[0]\n",
    "balcony_direction_mode = df['balcony_direction'].mode()[0]\n",
    "toilet_mode = df['toilet'].mode()[0]\n",
    "bedroom_mode = df['bedroom'].mode()[0]\n",
    "floor_mode = df['floor'].mode()[0]\n",
    "\n",
    "# print(f'house_direction_mode:  {house_direction_mode}')\n",
    "# print(f'balcony_direction_mode:  {balcony_direction_mode}')\n",
    "# print(f'toilet_mode:  {toilet_mode}')\n",
    "# print(f'bedroom_mode:  {bedroom_mode}')\n",
    "# print(f'floor_mode:  {floor_mode}')\n",
    "\n",
    "values = {\n",
    "    'land_certificate': 'No information',\n",
    "    'house_direction': house_direction_mode,\n",
    "    'balcony_direction': balcony_direction_mode,\n",
    "    'toilet': toilet_mode,\n",
    "    'bedroom': bedroom_mode,\n",
    "    'floor': floor_mode,\n",
    "}\n",
    "\n",
    "df.fillna(value=values, inplace=True)\n",
    "df.info()\n",
    "# df[df['land_certificate'] == 'No information']"
   ]
  },
  {
   "cell_type": "code",
   "execution_count": 6,
   "id": "e2151ec3",
   "metadata": {},
   "outputs": [
    {
     "data": {
      "text/html": [
       "<div>\n",
       "<style scoped>\n",
       "    .dataframe tbody tr th:only-of-type {\n",
       "        vertical-align: middle;\n",
       "    }\n",
       "\n",
       "    .dataframe tbody tr th {\n",
       "        vertical-align: top;\n",
       "    }\n",
       "\n",
       "    .dataframe thead th {\n",
       "        text-align: right;\n",
       "    }\n",
       "</style>\n",
       "<table border=\"1\" class=\"dataframe\">\n",
       "  <thead>\n",
       "    <tr style=\"text-align: right;\">\n",
       "      <th></th>\n",
       "      <th>title</th>\n",
       "      <th>address</th>\n",
       "      <th>area</th>\n",
       "      <th>price</th>\n",
       "      <th>postDate</th>\n",
       "      <th>land_certificate</th>\n",
       "      <th>house_direction</th>\n",
       "      <th>balcony_direction</th>\n",
       "      <th>toilet</th>\n",
       "      <th>bedroom</th>\n",
       "      <th>floor</th>\n",
       "      <th>type_of_land</th>\n",
       "      <th>street_name</th>\n",
       "      <th>ward_name</th>\n",
       "      <th>district_name</th>\n",
       "      <th>city_name</th>\n",
       "      <th>lat</th>\n",
       "      <th>long</th>\n",
       "    </tr>\n",
       "  </thead>\n",
       "  <tbody>\n",
       "    <tr>\n",
       "      <th>3</th>\n",
       "      <td>Bán nhà 6 tầng mới kinh doanh mặt ngõ 1194 Đườ...</td>\n",
       "      <td>Ngõ 1194, Đường Láng, Phường Láng Thượng, Đố...</td>\n",
       "      <td>62.0</td>\n",
       "      <td>11000.0</td>\n",
       "      <td>2021-03-13</td>\n",
       "      <td>Sổ đỏ</td>\n",
       "      <td>Đông</td>\n",
       "      <td>Đông-Nam</td>\n",
       "      <td>6.0</td>\n",
       "      <td>5.0</td>\n",
       "      <td>6.0</td>\n",
       "      <td>Bán nhà riêng\\n</td>\n",
       "      <td>Đường Láng Thượng</td>\n",
       "      <td>Phường Láng Thượng</td>\n",
       "      <td>Quận Đống Đa</td>\n",
       "      <td>Thành phố Hà Nội</td>\n",
       "      <td>21.025379</td>\n",
       "      <td>105.801011</td>\n",
       "    </tr>\n",
       "    <tr>\n",
       "      <th>7</th>\n",
       "      <td>Bán nhà phường Thổ Quan ngõ thoáng 26m2 x 4 tầ...</td>\n",
       "      <td>Đường Trung Phụng, Phường Thổ Quan, Đống Đa, ...</td>\n",
       "      <td>26.0</td>\n",
       "      <td>2900.0</td>\n",
       "      <td>2021-04-06</td>\n",
       "      <td>Sổ đỏ</td>\n",
       "      <td>Đông-Nam</td>\n",
       "      <td>Đông-Nam</td>\n",
       "      <td>4.0</td>\n",
       "      <td>3.0</td>\n",
       "      <td>4.0</td>\n",
       "      <td>Bán nhà riêng\\n</td>\n",
       "      <td>Đường Trung Phụng</td>\n",
       "      <td>Phường Trung Phụng</td>\n",
       "      <td>Quận Đống Đa</td>\n",
       "      <td>Thành phố Hà Nội</td>\n",
       "      <td>21.014325</td>\n",
       "      <td>105.834918</td>\n",
       "    </tr>\n",
       "    <tr>\n",
       "      <th>12</th>\n",
       "      <td>Bán đất tặng nhà gần ngõ 34 Hoàng Cầu - 29 Lán...</td>\n",
       "      <td>174, Phố Mai Anh Tuấn, Phường Ô Chợ Dừa, Đốn...</td>\n",
       "      <td>52.2</td>\n",
       "      <td>5376.6</td>\n",
       "      <td>2021-04-06</td>\n",
       "      <td>Sổ đỏ</td>\n",
       "      <td>Tây-Bắc</td>\n",
       "      <td>Tây-Bắc</td>\n",
       "      <td>1.0</td>\n",
       "      <td>2.0</td>\n",
       "      <td>3.0</td>\n",
       "      <td>Bán nhà riêng\\n</td>\n",
       "      <td>Phố Mai Anh Tuấn</td>\n",
       "      <td>Phường Ô Chợ Dừa</td>\n",
       "      <td>Quận Đống Đa</td>\n",
       "      <td>Thành phố Hà Nội</td>\n",
       "      <td>21.019078</td>\n",
       "      <td>105.819259</td>\n",
       "    </tr>\n",
       "    <tr>\n",
       "      <th>16</th>\n",
       "      <td>Chính chủ bán Căn nhà Tâp Thể Đường Sắt ngõ 29...</td>\n",
       "      <td>Láng Hạ, Phường Láng Hạ, Quận Đống Đa, Hà Nội</td>\n",
       "      <td>100.0</td>\n",
       "      <td>2400.0</td>\n",
       "      <td>2021-01-01</td>\n",
       "      <td>Sổ đỏ</td>\n",
       "      <td>Đông-Nam</td>\n",
       "      <td>Đông-Nam</td>\n",
       "      <td>2.0</td>\n",
       "      <td>3.0</td>\n",
       "      <td>5.0</td>\n",
       "      <td>Tập thể, cư xá</td>\n",
       "      <td>Phố Láng Hạ</td>\n",
       "      <td>Phường Láng Hạ</td>\n",
       "      <td>Quận Đống Đa</td>\n",
       "      <td>Thành phố Hà Nội</td>\n",
       "      <td>21.017006</td>\n",
       "      <td>105.815086</td>\n",
       "    </tr>\n",
       "    <tr>\n",
       "      <th>17</th>\n",
       "      <td>Siêu hot! Bán nhà tập thể ngõ 62 Nguyên Chí Th...</td>\n",
       "      <td>Nguyễn Chí Thanh, Phường Láng Thượng, Quận Đốn...</td>\n",
       "      <td>70.0</td>\n",
       "      <td>2000.0</td>\n",
       "      <td>2021-01-01</td>\n",
       "      <td>Sổ đỏ</td>\n",
       "      <td>Đông-Nam</td>\n",
       "      <td>Đông-Nam</td>\n",
       "      <td>1.0</td>\n",
       "      <td>2.0</td>\n",
       "      <td>5.0</td>\n",
       "      <td>Tập thể, cư xá</td>\n",
       "      <td>Đường Nguyễn Chí Thanh</td>\n",
       "      <td>Phường Láng Thượng</td>\n",
       "      <td>Quận Đống Đa</td>\n",
       "      <td>Thành phố Hà Nội</td>\n",
       "      <td>21.021098</td>\n",
       "      <td>105.808791</td>\n",
       "    </tr>\n",
       "  </tbody>\n",
       "</table>\n",
       "</div>"
      ],
      "text/plain": [
       "                                                title  \\\n",
       "3   Bán nhà 6 tầng mới kinh doanh mặt ngõ 1194 Đườ...   \n",
       "7   Bán nhà phường Thổ Quan ngõ thoáng 26m2 x 4 tầ...   \n",
       "12  Bán đất tặng nhà gần ngõ 34 Hoàng Cầu - 29 Lán...   \n",
       "16  Chính chủ bán Căn nhà Tâp Thể Đường Sắt ngõ 29...   \n",
       "17  Siêu hot! Bán nhà tập thể ngõ 62 Nguyên Chí Th...   \n",
       "\n",
       "                                              address   area    price  \\\n",
       "3   Ngõ 1194, Đường Láng, Phường Láng Thượng, Đố...   62.0  11000.0   \n",
       "7   Đường Trung Phụng, Phường Thổ Quan, Đống Đa, ...   26.0   2900.0   \n",
       "12  174, Phố Mai Anh Tuấn, Phường Ô Chợ Dừa, Đốn...   52.2   5376.6   \n",
       "16      Láng Hạ, Phường Láng Hạ, Quận Đống Đa, Hà Nội  100.0   2400.0   \n",
       "17  Nguyễn Chí Thanh, Phường Láng Thượng, Quận Đốn...   70.0   2000.0   \n",
       "\n",
       "     postDate land_certificate house_direction balcony_direction  toilet  \\\n",
       "3  2021-03-13            Sổ đỏ            Đông          Đông-Nam     6.0   \n",
       "7  2021-04-06            Sổ đỏ        Đông-Nam          Đông-Nam     4.0   \n",
       "12 2021-04-06            Sổ đỏ         Tây-Bắc           Tây-Bắc     1.0   \n",
       "16 2021-01-01            Sổ đỏ        Đông-Nam          Đông-Nam     2.0   \n",
       "17 2021-01-01            Sổ đỏ        Đông-Nam          Đông-Nam     1.0   \n",
       "\n",
       "    bedroom  floor      type_of_land             street_name  \\\n",
       "3       5.0    6.0  Bán nhà riêng\\n        Đường Láng Thượng   \n",
       "7       3.0    4.0  Bán nhà riêng\\n        Đường Trung Phụng   \n",
       "12      2.0    3.0  Bán nhà riêng\\n         Phố Mai Anh Tuấn   \n",
       "16      3.0    5.0    Tập thể, cư xá             Phố Láng Hạ   \n",
       "17      2.0    5.0    Tập thể, cư xá  Đường Nguyễn Chí Thanh   \n",
       "\n",
       "             ward_name district_name         city_name        lat        long  \n",
       "3   Phường Láng Thượng  Quận Đống Đa  Thành phố Hà Nội  21.025379  105.801011  \n",
       "7   Phường Trung Phụng  Quận Đống Đa  Thành phố Hà Nội  21.014325  105.834918  \n",
       "12    Phường Ô Chợ Dừa  Quận Đống Đa  Thành phố Hà Nội  21.019078  105.819259  \n",
       "16      Phường Láng Hạ  Quận Đống Đa  Thành phố Hà Nội  21.017006  105.815086  \n",
       "17  Phường Láng Thượng  Quận Đống Đa  Thành phố Hà Nội  21.021098  105.808791  "
      ]
     },
     "execution_count": 6,
     "metadata": {},
     "output_type": "execute_result"
    }
   ],
   "source": [
    "#Handle house inside alley\n",
    "search = 'ngõ'\n",
    "df_alley = df[(df['title'].str.contains(search) == True) | (df['address'].str.contains(search) == True)]\n",
    "df_alley.head()"
   ]
  },
  {
   "cell_type": "code",
   "execution_count": 7,
   "id": "65e5225b",
   "metadata": {},
   "outputs": [
    {
     "name": "stdout",
     "output_type": "stream",
     "text": [
      "Price per m2 for house inside alley is:  116.43738508340856\n"
     ]
    }
   ],
   "source": [
    "#Caculate price/m2 for alley houses\n",
    "print(f\"Price per m2 for house inside alley is:  {df_alley['price'].sum()/df_alley['area'].sum()}\")"
   ]
  },
  {
   "cell_type": "code",
   "execution_count": 8,
   "id": "671e6368",
   "metadata": {},
   "outputs": [
    {
     "data": {
      "text/plain": [
       "<AxesSubplot:xlabel='area'>"
      ]
     },
     "execution_count": 8,
     "metadata": {},
     "output_type": "execute_result"
    },
    {
     "data": {
      "image/png": "[encoded data removed]",
      "text/plain": [
       "<Figure size 432x288 with 1 Axes>"
      ]
     },
     "metadata": {
      "needs_background": "light"
     },
     "output_type": "display_data"
    }
   ],
   "source": [
    "#Handle outliners\n",
    "import seaborn as sns\n",
    "import matplotlib.pyplot as plt\n",
    "\n",
    "sns.boxplot(x=df['area'])"
   ]
  },
  {
   "cell_type": "code",
   "execution_count": 9,
   "id": "19a2dc3c",
   "metadata": {},
   "outputs": [
    {
     "data": {
      "text/plain": [
       "<AxesSubplot:xlabel='price'>"
      ]
     },
     "execution_count": 9,
     "metadata": {},
     "output_type": "execute_result"
    },
    {
     "data": {
      "image/png": "[encoded data removed]",
      "text/plain": [
       "<Figure size 432x288 with 1 Axes>"
      ]
     },
     "metadata": {
      "needs_background": "light"
     },
     "output_type": "display_data"
    }
   ],
   "source": [
    "sns.boxplot(x=df['price'])"
   ]
  },
  {
   "cell_type": "code",
   "execution_count": 10,
   "id": "6608daec",
   "metadata": {},
   "outputs": [
    {
     "data": {
      "text/plain": [
       "Text(0, 0.5, 'Price')"
      ]
     },
     "execution_count": 10,
     "metadata": {},
     "output_type": "execute_result"
    },
    {
     "data": {
      "image/png": "[encoded data removed]",
      "text/plain": [
       "<Figure size 1152x576 with 1 Axes>"
      ]
     },
     "metadata": {
      "needs_background": "light"
     },
     "output_type": "display_data"
    }
   ],
   "source": [
    "fig, ax = plt.subplots(figsize=(16,8))\n",
    "ax.scatter(x=df['area'], y=df['price'])\n",
    "ax.set_xlabel('Area')\n",
    "ax.set_ylabel('Price')"
   ]
  },
  {
   "cell_type": "code",
   "execution_count": 11,
   "id": "cb476772",
   "metadata": {},
   "outputs": [
    {
     "name": "stdout",
     "output_type": "stream",
     "text": [
      "area        83.0\n",
      "price    11850.0\n",
      "dtype: float64\n"
     ]
    }
   ],
   "source": [
    "Q1 = df[['area', 'price']].quantile(0.25)\n",
    "Q3 = df[['area', 'price']].quantile(0.75)\n",
    "IQR = Q3 - Q1\n",
    "\n",
    "print(IQR)"
   ]
  },
  {
   "cell_type": "code",
   "execution_count": 26,
   "id": "8a69b9b7",
   "metadata": {},
   "outputs": [
    {
     "name": "stdout",
     "output_type": "stream",
     "text": [
      "<class 'pandas.core.frame.DataFrame'>\n",
      "Int64Index: 928 entries, 0 to 999\n",
      "Data columns (total 18 columns):\n",
      " #   Column             Non-Null Count  Dtype         \n",
      "---  ------             --------------  -----         \n",
      " 0   title              928 non-null    object        \n",
      " 1   address            928 non-null    object        \n",
      " 2   area               926 non-null    float64       \n",
      " 3   price              928 non-null    float64       \n",
      " 4   postDate           928 non-null    datetime64[ns]\n",
      " 5   land_certificate   928 non-null    object        \n",
      " 6   house_direction    928 non-null    object        \n",
      " 7   balcony_direction  928 non-null    object        \n",
      " 8   toilet             928 non-null    float64       \n",
      " 9   bedroom            928 non-null    float64       \n",
      " 10  floor              928 non-null    float64       \n",
      " 11  type_of_land       928 non-null    object        \n",
      " 12  street_name        791 non-null    object        \n",
      " 13  ward_name          788 non-null    object        \n",
      " 14  district_name      928 non-null    object        \n",
      " 15  city_name          928 non-null    object        \n",
      " 16  lat                928 non-null    float64       \n",
      " 17  long               928 non-null    float64       \n",
      "dtypes: datetime64[ns](1), float64(7), object(10)\n",
      "memory usage: 137.8+ KB\n"
     ]
    }
   ],
   "source": [
    "df_clean = df[~((df[['area', 'price']] < (Q1 - 1.5 * IQR) | (df[['area', 'price']] > (Q3 + 1.5 * IQR)))).any(axis=1)]\n",
    "df_clean.info()"
   ]
  },
  {
   "cell_type": "code",
   "execution_count": 35,
   "id": "62856ff3",
   "metadata": {},
   "outputs": [
    {
     "data": {
      "text/plain": [
       "Text(0, 0.5, 'Price')"
      ]
     },
     "execution_count": 35,
     "metadata": {},
     "output_type": "execute_result"
    },
    {
     "data": {
      "image/png": "[encoded data removed]",
      "text/plain": [
       "<Figure size 1152x432 with 1 Axes>"
      ]
     },
     "metadata": {
      "needs_background": "light"
     },
     "output_type": "display_data"
    }
   ],
   "source": [
    "fig, ax = plt.subplots(figsize=(16,6))\n",
    "ax.scatter(x=df_clean['area'], y=df_clean['price'])\n",
    "ax.set_xlabel('Area')\n",
    "ax.set_ylabel('Price')"
   ]
  },
  {
   "cell_type": "code",
   "execution_count": 36,
   "id": "be25fea3",
   "metadata": {},
   "outputs": [
    {
     "data": {
      "text/html": [
       "<div>\n",
       "<style scoped>\n",
       "    .dataframe tbody tr th:only-of-type {\n",
       "        vertical-align: middle;\n",
       "    }\n",
       "\n",
       "    .dataframe tbody tr th {\n",
       "        vertical-align: top;\n",
       "    }\n",
       "\n",
       "    .dataframe thead th {\n",
       "        text-align: right;\n",
       "    }\n",
       "</style>\n",
       "<table border=\"1\" class=\"dataframe\">\n",
       "  <thead>\n",
       "    <tr style=\"text-align: right;\">\n",
       "      <th></th>\n",
       "      <th>title</th>\n",
       "      <th>address</th>\n",
       "      <th>area</th>\n",
       "      <th>price</th>\n",
       "      <th>postDate</th>\n",
       "      <th>land_certificate</th>\n",
       "      <th>house_direction</th>\n",
       "      <th>balcony_direction</th>\n",
       "      <th>toilet</th>\n",
       "      <th>bedroom</th>\n",
       "      <th>floor</th>\n",
       "      <th>type_of_land</th>\n",
       "      <th>street_name</th>\n",
       "      <th>ward_name</th>\n",
       "      <th>district_name</th>\n",
       "      <th>city_name</th>\n",
       "      <th>lat</th>\n",
       "      <th>long</th>\n",
       "    </tr>\n",
       "  </thead>\n",
       "  <tbody>\n",
       "    <tr>\n",
       "      <th>183</th>\n",
       "      <td>Bán nhà MP Xã Đàn 44.5m2 x 6 tầng MT 6.6m vỉa ...</td>\n",
       "      <td>Hà Nội\\nQuận Đống Đa</td>\n",
       "      <td>4450.0</td>\n",
       "      <td>50000.0</td>\n",
       "      <td>2021-01-01</td>\n",
       "      <td>No information</td>\n",
       "      <td>Đông-Nam</td>\n",
       "      <td>Đông-Nam</td>\n",
       "      <td>4.0</td>\n",
       "      <td>4.0</td>\n",
       "      <td>5.0</td>\n",
       "      <td>Bán nhà mặt phố</td>\n",
       "      <td>NaN</td>\n",
       "      <td>NaN</td>\n",
       "      <td>Quận Đống Đa</td>\n",
       "      <td>Thành phố Hà Nội</td>\n",
       "      <td>21.018072</td>\n",
       "      <td>105.829949</td>\n",
       "    </tr>\n",
       "    <tr>\n",
       "      <th>728</th>\n",
       "      <td>Nhà mặt phố Phạm Ngọc Thach, 1100m2, mt 25m gi...</td>\n",
       "      <td>Đường Phạm Ngọc Thạch, Phường Kim Liên, Đống Đ...</td>\n",
       "      <td>11000.0</td>\n",
       "      <td>330000.0</td>\n",
       "      <td>2021-05-01</td>\n",
       "      <td>Sổ đỏ</td>\n",
       "      <td>Đông-Nam</td>\n",
       "      <td>Đông-Nam</td>\n",
       "      <td>4.0</td>\n",
       "      <td>4.0</td>\n",
       "      <td>1.0</td>\n",
       "      <td>Bán nhà mặt phố\\n</td>\n",
       "      <td>Đường Phạm Ngọc Thạch</td>\n",
       "      <td>Phường Kim Liên</td>\n",
       "      <td>Quận Đống Đa</td>\n",
       "      <td>Thành phố Hà Nội</td>\n",
       "      <td>21.011113</td>\n",
       "      <td>105.836969</td>\n",
       "    </tr>\n",
       "    <tr>\n",
       "      <th>739</th>\n",
       "      <td>Cần bán gấp toà nhà Vip bậc nhất mặt phố thươn...</td>\n",
       "      <td>Thái Hà, Phường Trung Liệt, Quận Đống Đa, Hà Nội</td>\n",
       "      <td>20000.0</td>\n",
       "      <td>210000.0</td>\n",
       "      <td>2021-01-01</td>\n",
       "      <td>Sổ đỏ</td>\n",
       "      <td>Đông-Nam</td>\n",
       "      <td>Đông-Nam</td>\n",
       "      <td>5.0</td>\n",
       "      <td>5.0</td>\n",
       "      <td>5.0</td>\n",
       "      <td>Bán nhà mặt phố</td>\n",
       "      <td>Phố Trung Liệt</td>\n",
       "      <td>Phường Trung Liệt</td>\n",
       "      <td>Quận Đống Đa</td>\n",
       "      <td>Thành phố Hà Nội</td>\n",
       "      <td>21.012988</td>\n",
       "      <td>105.820012</td>\n",
       "    </tr>\n",
       "  </tbody>\n",
       "</table>\n",
       "</div>"
      ],
      "text/plain": [
       "                                                 title  \\\n",
       "183  Bán nhà MP Xã Đàn 44.5m2 x 6 tầng MT 6.6m vỉa ...   \n",
       "728  Nhà mặt phố Phạm Ngọc Thach, 1100m2, mt 25m gi...   \n",
       "739  Cần bán gấp toà nhà Vip bậc nhất mặt phố thươn...   \n",
       "\n",
       "                                               address     area     price  \\\n",
       "183                              Hà Nội\\nQuận Đống Đa    4450.0   50000.0   \n",
       "728  Đường Phạm Ngọc Thạch, Phường Kim Liên, Đống Đ...  11000.0  330000.0   \n",
       "739   Thái Hà, Phường Trung Liệt, Quận Đống Đa, Hà Nội  20000.0  210000.0   \n",
       "\n",
       "      postDate land_certificate house_direction balcony_direction  toilet  \\\n",
       "183 2021-01-01   No information        Đông-Nam          Đông-Nam     4.0   \n",
       "728 2021-05-01            Sổ đỏ        Đông-Nam          Đông-Nam     4.0   \n",
       "739 2021-01-01            Sổ đỏ        Đông-Nam          Đông-Nam     5.0   \n",
       "\n",
       "     bedroom  floor        type_of_land            street_name  \\\n",
       "183      4.0    5.0     Bán nhà mặt phố                    NaN   \n",
       "728      4.0    1.0  Bán nhà mặt phố\\n   Đường Phạm Ngọc Thạch   \n",
       "739      5.0    5.0     Bán nhà mặt phố         Phố Trung Liệt   \n",
       "\n",
       "             ward_name district_name         city_name        lat        long  \n",
       "183                NaN  Quận Đống Đa  Thành phố Hà Nội  21.018072  105.829949  \n",
       "728    Phường Kim Liên  Quận Đống Đa  Thành phố Hà Nội  21.011113  105.836969  \n",
       "739  Phường Trung Liệt  Quận Đống Đa  Thành phố Hà Nội  21.012988  105.820012  "
      ]
     },
     "execution_count": 36,
     "metadata": {},
     "output_type": "execute_result"
    }
   ],
   "source": [
    "df_clean[df_clean['area'] > 2500]"
   ]
  }
 ],
 "metadata": {
  "kernelspec": {
   "display_name": "Python 3 (ipykernel)",
   "language": "python",
   "name": "python3"
  },
  "language_info": {
   "codemirror_mode": {
    "name": "ipython",
    "version": 3
   },
   "file_extension": ".py",
   "mimetype": "text/x-python",
   "name": "python",
   "nbconvert_exporter": "python",
   "pygments_lexer": "ipython3",
   "version": "3.9.7"
  }
 },
 "nbformat": 4,
 "nbformat_minor": 5
}
