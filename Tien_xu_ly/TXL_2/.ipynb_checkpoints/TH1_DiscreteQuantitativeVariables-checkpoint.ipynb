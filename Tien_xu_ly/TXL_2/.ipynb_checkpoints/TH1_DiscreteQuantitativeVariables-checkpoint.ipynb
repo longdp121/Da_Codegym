{
 "cells": [
  {
   "cell_type": "code",
   "execution_count": 1,
   "id": "ae71f8b9",
   "metadata": {},
   "outputs": [],
   "source": [
    "import pandas as pd\n",
    "import numpy as np"
   ]
  },
  {
   "cell_type": "code",
   "execution_count": 5,
   "id": "613b8b5d",
   "metadata": {},
   "outputs": [
    {
     "data": {
      "text/plain": [
       "[(60, 100], (18, 25], (18, 25], (25, 35], (18, 25], ..., (25, 35], (60, 100], (35, 60], (35, 60], (25, 35]]\n",
       "Length: 12\n",
       "Categories (4, interval[int64, right]): [(18, 25] < (25, 35] < (35, 60] < (60, 100]]"
      ]
     },
     "execution_count": 5,
     "metadata": {},
     "output_type": "execute_result"
    }
   ],
   "source": [
    "ages = [99, 22, 25, 27, 21, 23, 37, 31, 61, 45, 41, 32]\n",
    "'''\n",
    "Chia số tuổi thành cách nhóm khác nhau\n",
    "Các nhòm này được gọi là bins\n",
    "Ví dụ: chia thành nhóm 18 -> 25, 26 -> 35, 36 -> 60, 61 -> 100\n",
    "'''\n",
    "bins = [18, 25, 35, 60, 100]\n",
    "cats = pd.cut(ages, bins)\n",
    "cats"
   ]
  },
  {
   "cell_type": "code",
   "execution_count": 6,
   "id": "8bba1c23",
   "metadata": {},
   "outputs": [
    {
     "data": {
      "text/plain": [
       "array([3, 0, 0, 1, 0, 0, 2, 1, 3, 2, 2, 1], dtype=int8)"
      ]
     },
     "execution_count": 6,
     "metadata": {},
     "output_type": "execute_result"
    }
   ],
   "source": [
    "#Return bins index which is also ages index\n",
    "cats.codes"
   ]
  },
  {
   "cell_type": "code",
   "execution_count": 8,
   "id": "b6054104",
   "metadata": {},
   "outputs": [
    {
     "data": {
      "text/plain": [
       "IntervalIndex([(18, 25], (25, 35], (35, 60], (60, 100]], dtype='interval[int64, right]')"
      ]
     },
     "execution_count": 8,
     "metadata": {},
     "output_type": "execute_result"
    }
   ],
   "source": [
    "#Return group\n",
    "cats.categories"
   ]
  },
  {
   "cell_type": "code",
   "execution_count": 9,
   "id": "f581d250",
   "metadata": {},
   "outputs": [
    {
     "data": {
      "text/plain": [
       "(18, 25]     4\n",
       "(25, 35]     3\n",
       "(35, 60]     3\n",
       "(60, 100]    2\n",
       "dtype: int64"
      ]
     },
     "execution_count": 9,
     "metadata": {},
     "output_type": "execute_result"
    }
   ],
   "source": [
    "#Return number of item in each group\n",
    "pd.value_counts(cats)"
   ]
  },
  {
   "cell_type": "code",
   "execution_count": 10,
   "id": "15c7e4e5",
   "metadata": {},
   "outputs": [
    {
     "data": {
      "text/plain": [
       "['Old', 'Teen', 'Teen', 'Young', 'Teen', ..., 'Young', 'Old', 'Middle', 'Middle', 'Young']\n",
       "Length: 12\n",
       "Categories (4, object): ['Teen' < 'Young' < 'Middle' < 'Old']"
      ]
     },
     "execution_count": 10,
     "metadata": {},
     "output_type": "execute_result"
    }
   ],
   "source": [
    "#Creat labels and name these groups\n",
    "names = ['Teen', 'Young', 'Middle', 'Old']\n",
    "pd.cut(ages, bins, labels=names)"
   ]
  },
  {
   "cell_type": "code",
   "execution_count": 11,
   "id": "b307ba5d",
   "metadata": {},
   "outputs": [
    {
     "data": {
      "text/plain": [
       "[(73.0, 99.0], (20.922, 47.0], (20.922, 47.0], (20.922, 47.0], (20.922, 47.0], ..., (20.922, 47.0], (47.0, 73.0], (20.922, 47.0], (20.922, 47.0], (20.922, 47.0]]\n",
       "Length: 12\n",
       "Categories (3, interval[float64, right]): [(20.922, 47.0] < (47.0, 73.0] < (73.0, 99.0]]"
      ]
     },
     "execution_count": 11,
     "metadata": {},
     "output_type": "execute_result"
    }
   ],
   "source": [
    "#Give a int number instead of a list as bins\n",
    "pd.cut(ages, 3)"
   ]
  },
  {
   "cell_type": "code",
   "execution_count": 14,
   "id": "52e71aca",
   "metadata": {},
   "outputs": [
    {
     "data": {
      "text/plain": [
       "(20.922, 47.0]    10\n",
       "(47.0, 73.0]       1\n",
       "(73.0, 99.0]       1\n",
       "dtype: int64"
      ]
     },
     "execution_count": 14,
     "metadata": {},
     "output_type": "execute_result"
    }
   ],
   "source": [
    "pd.value_counts(pd.cut(ages, 3))"
   ]
  },
  {
   "cell_type": "code",
   "execution_count": 15,
   "id": "530a73ad",
   "metadata": {},
   "outputs": [
    {
     "data": {
      "text/plain": [
       "[(42.0, 99.0], (20.999, 24.5], (24.5, 31.5], (24.5, 31.5], (20.999, 24.5], ..., (24.5, 31.5], (42.0, 99.0], (42.0, 99.0], (31.5, 42.0], (31.5, 42.0]]\n",
       "Length: 12\n",
       "Categories (4, interval[float64, right]): [(20.999, 24.5] < (24.5, 31.5] < (31.5, 42.0] < (42.0, 99.0]]"
      ]
     },
     "execution_count": 15,
     "metadata": {},
     "output_type": "execute_result"
    }
   ],
   "source": [
    "#qcut function will return groups with exact same size\n",
    "pd.qcut(ages, 4)"
   ]
  },
  {
   "cell_type": "code",
   "execution_count": 16,
   "id": "581dc09f",
   "metadata": {},
   "outputs": [
    {
     "data": {
      "text/plain": [
       "(20.999, 24.5]    3\n",
       "(24.5, 31.5]      3\n",
       "(31.5, 42.0]      3\n",
       "(42.0, 99.0]      3\n",
       "dtype: int64"
      ]
     },
     "execution_count": 16,
     "metadata": {},
     "output_type": "execute_result"
    }
   ],
   "source": [
    "pd.value_counts(pd.qcut(ages, 4))"
   ]
  }
 ],
 "metadata": {
  "kernelspec": {
   "display_name": "Python 3 (ipykernel)",
   "language": "python",
   "name": "python3"
  },
  "language_info": {
   "codemirror_mode": {
    "name": "ipython",
    "version": 3
   },
   "file_extension": ".py",
   "mimetype": "text/x-python",
   "name": "python",
   "nbconvert_exporter": "python",
   "pygments_lexer": "ipython3",
   "version": "3.9.7"
  }
 },
 "nbformat": 4,
 "nbformat_minor": 5
}
