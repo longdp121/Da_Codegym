{
 "cells": [
  {
   "cell_type": "code",
   "execution_count": null,
   "id": "d93eb921",
   "metadata": {},
   "outputs": [],
   "source": [
    "#Mã hóa dữ liệu\n",
    "#Rời rạc hóa dữ l"
   ]
  },
  {
   "cell_type": "code",
   "execution_count": 1,
   "id": "b63cc2f2",
   "metadata": {},
   "outputs": [],
   "source": [
    "import pandas as pd"
   ]
  },
  {
   "cell_type": "code",
   "execution_count": null,
   "id": "8ac9efb9",
   "metadata": {},
   "outputs": [],
   "source": [
    "#Các phương pháp mã hóa\n",
    "#One hot encoding\n",
    "#Label encoding\n",
    "#Ordinal encoding"
   ]
  },
  {
   "cell_type": "code",
   "execution_count": 10,
   "id": "cf27471a",
   "metadata": {},
   "outputs": [],
   "source": [
    "#Rời rạc hóa dữ liệu\n",
    "#Hàm cut\n",
    "ages = [20, 22, 25, 27, 21, 23, 37, 31, 61, 45, 41, 32]\n",
    "bins = [18, 25, 35, 60, 100]"
   ]
  },
  {
   "cell_type": "code",
   "execution_count": 11,
   "id": "829964c5",
   "metadata": {},
   "outputs": [
    {
     "data": {
      "text/plain": [
       "[(18, 25], (18, 25], (18, 25], (25, 35], (18, 25], ..., (25, 35], (60, 100], (35, 60], (35, 60], (25, 35]]\n",
       "Length: 12\n",
       "Categories (4, interval[int64, right]): [(18, 25] < (25, 35] < (35, 60] < (60, 100]]"
      ]
     },
     "execution_count": 11,
     "metadata": {},
     "output_type": "execute_result"
    }
   ],
   "source": [
    "pd.cut(ages, bins)"
   ]
  },
  {
   "cell_type": "code",
   "execution_count": 15,
   "id": "560f4030",
   "metadata": {},
   "outputs": [
    {
     "data": {
      "text/plain": [
       "[(19.959, 26.833], (19.959, 26.833], (19.959, 26.833], (26.833, 33.667], (19.959, 26.833], ..., (26.833, 33.667], (54.167, 61.0], (40.5, 47.333], (40.5, 47.333], (26.833, 33.667]]\n",
       "Length: 12\n",
       "Categories (6, interval[float64, right]): [(19.959, 26.833] < (26.833, 33.667] < (33.667, 40.5] < (40.5, 47.333] < (47.333, 54.167] < (54.167, 61.0]]"
      ]
     },
     "execution_count": 15,
     "metadata": {},
     "output_type": "execute_result"
    }
   ],
   "source": [
    "n = 6\n",
    "cut_data = pd.cut(ages, n)\n",
    "cut_data"
   ]
  },
  {
   "cell_type": "code",
   "execution_count": null,
   "id": "1667a72f",
   "metadata": {},
   "outputs": [],
   "source": [
    "#Hàm qcut"
   ]
  }
 ],
 "metadata": {
  "kernelspec": {
   "display_name": "Python 3 (ipykernel)",
   "language": "python",
   "name": "python3"
  },
  "language_info": {
   "codemirror_mode": {
    "name": "ipython",
    "version": 3
   },
   "file_extension": ".py",
   "mimetype": "text/x-python",
   "name": "python",
   "nbconvert_exporter": "python",
   "pygments_lexer": "ipython3",
   "version": "3.9.7"
  }
 },
 "nbformat": 4,
 "nbformat_minor": 5
}
