{
 "cells": [
  {
   "cell_type": "code",
   "execution_count": null,
   "id": "cb215bda",
   "metadata": {},
   "outputs": [],
   "source": [
    "#Mã hóa dữ liệu\n",
    "#Rời rạc hóa dữ l"
   ]
  },
  {
   "cell_type": "code",
   "execution_count": 1,
   "id": "795682d7",
   "metadata": {},
   "outputs": [],
   "source": [
    "import pandas as pd"
   ]
  },
  {
   "cell_type": "code",
   "execution_count": null,
   "id": "79b7db55",
   "metadata": {},
   "outputs": [],
   "source": [
    "#Các phương pháp mã hóa\n",
    "#One hot encoding\n",
    "#Label encoding\n",
    "#Ordinal encoding"
   ]
  },
  {
   "cell_type": "code",
   "execution_count": 31,
   "id": "687c64b3",
   "metadata": {},
   "outputs": [
    {
     "data": {
      "text/plain": [
       "0     20\n",
       "1     22\n",
       "2     25\n",
       "3     27\n",
       "4     21\n",
       "5     23\n",
       "6     37\n",
       "7     31\n",
       "8     61\n",
       "9     45\n",
       "10    41\n",
       "11    32\n",
       "dtype: int64"
      ]
     },
     "execution_count": 31,
     "metadata": {},
     "output_type": "execute_result"
    }
   ],
   "source": [
    "#Rời rạc hóa dữ liệu\n",
    "#Hàm cut\n",
    "ages = [20, 22, 25, 27, 21, 23, 37, 31, 61, 45, 41, 32]\n",
    "bins = [18, 25, 35, 60, 100]\n",
    "ages = pd.Series(ages)\n",
    "ages"
   ]
  },
  {
   "cell_type": "code",
   "execution_count": 34,
   "id": "a71c8216",
   "metadata": {},
   "outputs": [
    {
     "data": {
      "text/plain": [
       "0      (18, 25]\n",
       "1      (18, 25]\n",
       "2      (18, 25]\n",
       "3      (25, 35]\n",
       "4      (18, 25]\n",
       "5      (18, 25]\n",
       "6      (35, 60]\n",
       "7      (25, 35]\n",
       "8     (60, 100]\n",
       "9      (35, 60]\n",
       "10     (35, 60]\n",
       "11     (25, 35]\n",
       "dtype: category\n",
       "Categories (4, interval[int64, right]): [(18, 25] < (25, 35] < (35, 60] < (60, 100]]"
      ]
     },
     "execution_count": 34,
     "metadata": {},
     "output_type": "execute_result"
    }
   ],
   "source": [
    "pd.cut(ages, bins)"
   ]
  },
  {
   "cell_type": "code",
   "execution_count": null,
   "id": "a5526b0b",
   "metadata": {},
   "outputs": [],
   "source": []
  },
  {
   "cell_type": "code",
   "execution_count": 18,
   "id": "fa241890",
   "metadata": {},
   "outputs": [
    {
     "data": {
      "text/plain": [
       "[(19.959, 26.833], (19.959, 26.833], (19.959, 26.833], (26.833, 33.667], (19.959, 26.833], ..., (26.833, 33.667], (54.167, 61.0], (40.5, 47.333], (40.5, 47.333], (26.833, 33.667]]\n",
       "Length: 12\n",
       "Categories (6, interval[float64, right]): [(19.959, 26.833] < (26.833, 33.667] < (33.667, 40.5] < (40.5, 47.333] < (47.333, 54.167] < (54.167, 61.0]]"
      ]
     },
     "execution_count": 18,
     "metadata": {},
     "output_type": "execute_result"
    }
   ],
   "source": [
    "n = 6\n",
    "cut_data = pd.cut(ages, n)\n",
    "cut_data"
   ]
  },
  {
   "cell_type": "code",
   "execution_count": 16,
   "id": "22478927",
   "metadata": {},
   "outputs": [
    {
     "data": {
      "text/plain": [
       "[(19.999, 22.75], (19.999, 22.75], (22.75, 29.0], (22.75, 29.0], (19.999, 22.75], ..., (29.0, 38.0], (38.0, 61.0], (38.0, 61.0], (38.0, 61.0], (29.0, 38.0]]\n",
       "Length: 12\n",
       "Categories (4, interval[float64, right]): [(19.999, 22.75] < (22.75, 29.0] < (29.0, 38.0] < (38.0, 61.0]]"
      ]
     },
     "execution_count": 16,
     "metadata": {},
     "output_type": "execute_result"
    }
   ],
   "source": [
    "#Hàm qcut\n",
    "pd.qcut(ages, 4)"
   ]
  }
 ],
 "metadata": {
  "kernelspec": {
   "display_name": "Python 3 (ipykernel)",
   "language": "python",
   "name": "python3"
  },
  "language_info": {
   "codemirror_mode": {
    "name": "ipython",
    "version": 3
   },
   "file_extension": ".py",
   "mimetype": "text/x-python",
   "name": "python",
   "nbconvert_exporter": "python",
   "pygments_lexer": "ipython3",
   "version": "3.9.7"
  }
 },
 "nbformat": 4,
 "nbformat_minor": 5
}
